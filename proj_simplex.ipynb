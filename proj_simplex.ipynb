{
 "cells": [
  {
   "cell_type": "code",
   "execution_count": 3,
   "metadata": {},
   "outputs": [
    {
     "data": {
      "text/plain": [
       "projection_onto_simplex (generic function with 2 methods)"
      ]
     },
     "metadata": {},
     "output_type": "display_data"
    }
   ],
   "source": [
    "function projection_onto_simplex(z::Vector{Float64}, d::Float64 = 1.0)::Vector{Float64}\n",
    "    \"\"\"\n",
    "    Projection onto the simplex.\n",
    "    Parameters:\n",
    "        z::Vector{Float64}\n",
    "            Input vector.\n",
    "        d::Float64\n",
    "            Value of the projection.\n",
    "    Returns:\n",
    "        p::Vector{Float64}\n",
    "            Projection of z onto the simplex.\n",
    "    References:\n",
    "        Michelot, C. (1986). A finite algorithm for finding the projection of a point onto the canonical simplex of ∝n. \n",
    "        Journal of Optimization Theory and Applications, 50, 195-200.\n",
    "    \"\"\"\n",
    "    \n",
    "    p = copy(z)\n",
    "    n = length(z)\n",
    "    \n",
    "    # Calculate the initial projection\n",
    "    p .+= (d - sum(z)) / n\n",
    "    \n",
    "    while minimum(p) < 0\n",
    "        # Identify indices where p is negative\n",
    "        inc_ind = findall(p .< 0)\n",
    "        dec_ind = findall(p .> 0)\n",
    "        \n",
    "        # Set negative elements to 0\n",
    "        p[inc_ind] .= 0.0\n",
    "        \n",
    "        # Update positive elements to satisfy the constraint\n",
    "        p[dec_ind] .+= (d - sum(p[dec_ind])) / length(dec_ind)\n",
    "    end\n",
    "    \n",
    "    return p\n",
    "end"
   ]
  },
  {
   "cell_type": "code",
   "execution_count": 8,
   "metadata": {},
   "outputs": [
    {
     "name": "stdout",
     "output_type": "stream",
     "text": [
      "2.0000000000000004\n"
     ]
    }
   ],
   "source": [
    "z = rand(5000000)\n",
    "p = projection_onto_simplex(z, 2.0)\n",
    "println(sum(p))"
   ]
  }
 ],
 "metadata": {
  "kernelspec": {
   "display_name": "Julia 1.9.3",
   "language": "julia",
   "name": "julia-1.9"
  },
  "language_info": {
   "file_extension": ".jl",
   "mimetype": "application/julia",
   "name": "julia",
   "version": "1.9.3"
  },
  "orig_nbformat": 4
 },
 "nbformat": 4,
 "nbformat_minor": 2
}
