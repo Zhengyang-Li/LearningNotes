{
 "cells": [
  {
   "cell_type": "code",
   "execution_count": 4,
   "id": "95cd5bd0",
   "metadata": {},
   "outputs": [],
   "source": [
    "import numpy as np"
   ]
  },
  {
   "cell_type": "code",
   "execution_count": 5,
   "id": "53453ba8",
   "metadata": {},
   "outputs": [
    {
     "name": "stdout",
     "output_type": "stream",
     "text": [
      "MNL概率: [0.41232669 0.33758454 0.25008878]\n",
      "PSL概率: [0.37407129 0.32341443 0.30251428]\n"
     ]
    }
   ],
   "source": [
    "# 参数\n",
    "beta = 0.1\n",
    "lengths = [10, 12, 15]  # 路径1,2,3的长度\n",
    "PS = [0.75, 0.792, 1.0] # Path-Size因子\n",
    "\n",
    "# MNL计算\n",
    "V = [-beta * L for L in lengths]\n",
    "exp_V = np.exp(V)\n",
    "P_MNL = exp_V / np.sum(exp_V)\n",
    "\n",
    "# PSL计算\n",
    "U = [V[i] + np.log(PS[i]) for i in range(3)]\n",
    "exp_U = np.exp(U)\n",
    "P_PSL = exp_U / np.sum(exp_U)\n",
    "\n",
    "print(\"MNL概率:\", P_MNL)\n",
    "print(\"PSL概率:\", P_PSL)"
   ]
  },
  {
   "cell_type": "code",
   "execution_count": null,
   "id": "828279ff",
   "metadata": {},
   "outputs": [],
   "source": []
  }
 ],
 "metadata": {
  "kernelspec": {
   "display_name": "base",
   "language": "python",
   "name": "python3"
  },
  "language_info": {
   "codemirror_mode": {
    "name": "ipython",
    "version": 3
   },
   "file_extension": ".py",
   "mimetype": "text/x-python",
   "name": "python",
   "nbconvert_exporter": "python",
   "pygments_lexer": "ipython3",
   "version": "3.11.4"
  }
 },
 "nbformat": 4,
 "nbformat_minor": 5
}
