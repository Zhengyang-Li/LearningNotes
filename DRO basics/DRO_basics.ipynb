{
 "cells": [
  {
   "cell_type": "markdown",
   "metadata": {},
   "source": [
    "# Distributionally robust optimization basics"
   ]
  },
  {
   "cell_type": "code",
   "execution_count": 7,
   "metadata": {},
   "outputs": [],
   "source": [
    "import math\n",
    "import numpy as np"
   ]
  },
  {
   "cell_type": "markdown",
   "metadata": {},
   "source": [
    "## 1. Moment-based DRO\n",
    "<img src='figs/Confidence_region.png'>"
   ]
  },
  {
   "cell_type": "code",
   "execution_count": 38,
   "metadata": {},
   "outputs": [
    {
     "name": "stdout",
     "output_type": "stream",
     "text": [
      "gamma1 0.8764053269347762\n",
      "gamma2 9.361652241643972\n",
      "Confidence level 0.95\n"
     ]
    }
   ],
   "source": [
    "sample_size = 500\n",
    "radius = 10\n",
    "error_percentage = 0.05\n",
    "\n",
    "gamma1 = radius ** 2 / sample_size * math.log( 4/error_percentage )\n",
    "gamma2 = radius ** 2 / math.sqrt( sample_size ) * math.sqrt(math.log( 4/error_percentage ))\n",
    "print('gamma1', gamma1)\n",
    "print('gamma2', gamma2)\n",
    "print('Confidence level', 1-error_percentage)"
   ]
  },
  {
   "cell_type": "markdown",
   "metadata": {},
   "source": [
    "### An example:\n",
    "Now think about two normally distributed variables, \n",
    "$$\n",
    "\\xi \\sim Normal\n",
    "$$\n",
    "\n",
    "the sampled mean and covariance are:\n",
    "$$\n",
    "\\mu_0 = \\left( \\begin{array}{c}\n",
    "5\\\\\n",
    "10\n",
    "\\end{array} \\right)\n",
    "$$\n",
    "\n",
    "$$\n",
    "\\Sigma_0 = \\left( \\begin{array}{cc}\n",
    "10 & 5\\\\\n",
    "5  & 10\n",
    "\\end{array} \\right)\n",
    "$$\n",
    "\n",
    "Only considering the first and the second moments, i.e., mean and variance, let's assume the true distribution as:\n",
    "$$\n",
    "\\mathbb{E}[\\xi] = \\left( \\begin{array}{c}\n",
    "6 \\\\\n",
    "11  \n",
    "\\end{array} \\right)\n",
    "$$\n",
    "\n",
    "$$\n",
    "\\mathbb{E}\\left[\\left(\\xi-\\mu_{0}\\right)\\left(\\xi-\\mu_{0}\\right)^{T}\\right] = \\left( \\begin{array}{cc}\n",
    "11 & 6\\\\\n",
    "6  & 11\n",
    "\\end{array} \\right)\n",
    "$$\n",
    "\n",
    "Then, let's see the first inequality:\n",
    "$$\n",
    "\\left(\\mathbb{E}[\\xi]-\\mu_{0}\\right)^{T} \\Sigma_{0}^{-1}\\left(\\mathbb{E}[\\xi]-\\mu_{0}\\right) \\leq \\gamma_{1}\n",
    "$$"
   ]
  },
  {
   "cell_type": "code",
   "execution_count": 42,
   "metadata": {},
   "outputs": [
    {
     "name": "stdout",
     "output_type": "stream",
     "text": [
      "E_xi=\n",
      "[[ 6]\n",
      " [11]]\n",
      "LHS= 0.13333333333333333 less than gamma1 0.8764053269347762\n",
      "E_xi=\n",
      "[[ 8]\n",
      " [13]]\n",
      "LHS= 1.2000000000000002 larger than gamma1 0.8764053269347762\n"
     ]
    }
   ],
   "source": [
    "# the first inequality\n",
    "mu0 = np.array([[5],[10]])\n",
    "sigma0 = np.array([\n",
    "    [10,5],\n",
    "    [5,10]\n",
    "])\n",
    "\n",
    "# case 1\n",
    "E_xi = np.array([\n",
    "    [6],\n",
    "    [11]\n",
    "])\n",
    "\n",
    "LHS = np.dot( np.dot((E_xi - mu0).T , np.linalg.inv(sigma0)), E_xi - mu0 )[0,0]\n",
    "print('E_xi=')\n",
    "print(E_xi)\n",
    "print('LHS=', LHS, 'less than gamma1', gamma1)\n",
    "\n",
    "# case 2\n",
    "E_xi = np.array([\n",
    "    [8],\n",
    "    [13]\n",
    "])\n",
    "\n",
    "LHS = np.dot( np.dot((E_xi - mu0).T , np.linalg.inv(sigma0)), E_xi - mu0 )[0,0]\n",
    "print('E_xi=')\n",
    "print(E_xi)\n",
    "print('LHS=', LHS, 'larger than gamma1', gamma1)"
   ]
  },
  {
   "cell_type": "markdown",
   "metadata": {},
   "source": [
    "The second inequality:\n",
    "$$\n",
    "\\mathbb{E}\\left[\\left(\\xi-\\mu_{0}\\right)\\left(\\xi-\\mu_{0}\\right)^{T}\\right] \\preceq \\gamma_{2} \\Sigma_{0}\n",
    "$$\n",
    "#### Note: Matrix A $\\succeq$ matrix B means matrix A-B is semi-positive definite.\n",
    "Therefore,\n",
    "$$\n",
    "\\mathbb{E}\\left[\\left(\\xi-\\mu_{0}\\right)\\left(\\xi-\\mu_{0}\\right)^{T}\\right] \\preceq \\gamma_{2} \\Sigma_{0}\n",
    "\\Rightarrow\n",
    "\\left( \\begin{array}{cc}\n",
    "11 & 6\\\\\n",
    "6  & 11\n",
    "\\end{array} \\right) \\preceq \\left( \\begin{array}{cc}\n",
    "93.6 & 46.8\\\\\n",
    "46.8  & 93.6\n",
    "\\end{array} \\right)\n",
    "\\Rightarrow\n",
    "\\left( \\begin{array}{cc}\n",
    "82.6 & 40.8\\\\\n",
    "40.8  & 82.6\n",
    "\\end{array} \\right) \\succeq 0\n",
    "$$\n",
    "\n",
    "### To sum up, this assumed distribution locates at the distributional ball with the radius of 10 and the confidence level of 95%."
   ]
  },
  {
   "cell_type": "markdown",
   "metadata": {},
   "source": [
    "## 2. Likelihood DRO"
   ]
  },
  {
   "cell_type": "markdown",
   "metadata": {},
   "source": [
    "## 3. Wasserstein distance DRO"
   ]
  },
  {
   "cell_type": "code",
   "execution_count": null,
   "metadata": {},
   "outputs": [],
   "source": []
  }
 ],
 "metadata": {
  "kernelspec": {
   "display_name": "Python 3",
   "language": "python",
   "name": "python3"
  },
  "language_info": {
   "codemirror_mode": {
    "name": "ipython",
    "version": 3
   },
   "file_extension": ".py",
   "mimetype": "text/x-python",
   "name": "python",
   "nbconvert_exporter": "python",
   "pygments_lexer": "ipython3",
   "version": "3.8.3"
  }
 },
 "nbformat": 4,
 "nbformat_minor": 4
}
