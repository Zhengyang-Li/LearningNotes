{
 "cells": [
  {
   "attachments": {},
   "cell_type": "markdown",
   "metadata": {},
   "source": [
    "# Logit-SUE: an illustration of fixed point formulation with MSA as the solution algorithm."
   ]
  },
  {
   "cell_type": "code",
   "execution_count": 1,
   "metadata": {},
   "outputs": [],
   "source": [
    "using DelimitedFiles:readdlm"
   ]
  },
  {
   "attachments": {},
   "cell_type": "markdown",
   "metadata": {},
   "source": [
    "## Problem setting."
   ]
  },
  {
   "attachments": {},
   "cell_type": "markdown",
   "metadata": {},
   "source": [
    "<img src=\"data/Caliper_net.png\" width=\"800\">"
   ]
  },
  {
   "cell_type": "code",
   "execution_count": 2,
   "metadata": {},
   "outputs": [
    {
     "data": {
      "text/plain": [
       "1×10 Matrix{AbstractString}:\n",
       " \"tail\"  \"head\"  \"cap\"  \"length\"  \"fft\"  …  \"speedLimit\"  \"toll\"  \"link_type\""
      ]
     },
     "metadata": {},
     "output_type": "display_data"
    }
   ],
   "source": [
    "netFile = \"data/network.csv\"\n",
    "csvdata = readdlm(netFile, ',', header=true)\n",
    "data = csvdata[1]\n",
    "header = csvdata[2]"
   ]
  },
  {
   "cell_type": "code",
   "execution_count": 3,
   "metadata": {},
   "outputs": [
    {
     "data": {
      "text/plain": [
       "1×10 Matrix{AbstractString}:\n",
       " \"tail\"  \"head\"  \"cap\"  \"length\"  \"fft\"  …  \"speedLimit\"  \"toll\"  \"link_type\""
      ]
     },
     "metadata": {},
     "output_type": "display_data"
    },
    {
     "data": {
      "text/plain": [
       "7×10 Matrix{Float64}:\n",
       " 1.0  2.0  50.0  20.0  20.0  0.15  4.0  60.0  0.0  1.0\n",
       " 1.0  4.0  50.0  20.0  20.0  0.15  4.0  60.0  0.0  1.0\n",
       " 2.0  3.0  50.0  20.0  20.0  0.15  4.0  60.0  0.0  1.0\n",
       " 2.0  5.0  50.0  20.0  20.0  0.15  4.0  60.0  0.0  1.0\n",
       " 3.0  6.0  50.0  20.0  20.0  0.15  4.0  60.0  0.0  1.0\n",
       " 4.0  5.0  50.0  20.0  10.0  0.15  4.0  60.0  4.0  1.0\n",
       " 5.0  6.0  50.0  20.0  10.0  0.15  4.0  60.0  2.0  1.0"
      ]
     },
     "metadata": {},
     "output_type": "display_data"
    }
   ],
   "source": [
    "display(header)\n",
    "display(data)"
   ]
  },
  {
   "cell_type": "code",
   "execution_count": 6,
   "metadata": {},
   "outputs": [
    {
     "data": {
      "text/plain": [
       "100.0"
      ]
     },
     "metadata": {},
     "output_type": "display_data"
    }
   ],
   "source": [
    "links = []\n",
    "for l in zip(round.(Int, data[:,1]), round.(Int, data[:,2]))\n",
    "    push!(links, l)\n",
    "end\n",
    "cap = data[:, 3]\n",
    "fft = data[:, 5]\n",
    "alpha = data[:, 6]\n",
    "beta = data[:, 7]\n",
    "dem = 100.0"
   ]
  },
  {
   "cell_type": "code",
   "execution_count": 4,
   "metadata": {},
   "outputs": [
    {
     "data": {
      "text/plain": [
       "BPR (generic function with 1 method)"
      ]
     },
     "metadata": {},
     "output_type": "display_data"
    }
   ],
   "source": [
    "# BPR function\n",
    "function BPR(cap, fft, alpha, beta,  flow)\n",
    "    return fft * (1 + alpha * (flow/cap) ^ beta)\n",
    "end"
   ]
  },
  {
   "cell_type": "code",
   "execution_count": 5,
   "metadata": {},
   "outputs": [
    {
     "data": {
      "text/plain": [
       "Logit (generic function with 1 method)"
      ]
     },
     "metadata": {},
     "output_type": "display_data"
    }
   ],
   "source": [
    "# Logit probability\n",
    "function Logit(cost)\n",
    "    theta = 1.0\n",
    "    util = -cost\n",
    "    return exp.(theta * util) / sum(exp.(theta * util))\n",
    "end"
   ]
  },
  {
   "cell_type": "code",
   "execution_count": 7,
   "metadata": {},
   "outputs": [
    {
     "data": {
      "text/plain": [
       "7-element Vector{Any}:\n",
       " (1, 2)\n",
       " (1, 4)\n",
       " (2, 3)\n",
       " (2, 5)\n",
       " (3, 6)\n",
       " (4, 5)\n",
       " (5, 6)"
      ]
     },
     "metadata": {},
     "output_type": "display_data"
    },
    {
     "data": {
      "text/plain": [
       "7×3 Matrix{Int64}:\n",
       " 1  1  0\n",
       " 0  0  1\n",
       " 1  0  0\n",
       " 0  1  0\n",
       " 1  0  0\n",
       " 0  0  1\n",
       " 0  1  1"
      ]
     },
     "metadata": {},
     "output_type": "display_data"
    }
   ],
   "source": [
    "# link-path incidence matrix (a 7 x 3 matrix)\n",
    "display(links)\n",
    "Δ = Matrix([\n",
    "    1 1 0;\n",
    "    0 0 1;\n",
    "    1 0 0;\n",
    "    0 1 0;\n",
    "    1 0 0;\n",
    "    0 0 1;\n",
    "    0 1 1\n",
    "    ])"
   ]
  },
  {
   "cell_type": "code",
   "execution_count": 8,
   "metadata": {},
   "outputs": [
    {
     "data": {
      "text/plain": [
       "3-element Vector{Float64}:\n",
       " 30.0\n",
       " 30.0\n",
       " 40.0"
      ]
     },
     "metadata": {},
     "output_type": "display_data"
    }
   ],
   "source": [
    "# path flow vector (a temporary value for illustration)\n",
    "f = [30.0, 30.0, 40.0]"
   ]
  },
  {
   "cell_type": "code",
   "execution_count": 9,
   "metadata": {},
   "outputs": [
    {
     "data": {
      "text/plain": [
       "7-element Vector{Float64}:\n",
       " 60.0\n",
       " 40.0\n",
       " 30.0\n",
       " 30.0\n",
       " 30.0\n",
       " 40.0\n",
       " 70.0"
      ]
     },
     "metadata": {},
     "output_type": "display_data"
    }
   ],
   "source": [
    "# link flow vector\n",
    "x = Δ * f"
   ]
  },
  {
   "cell_type": "code",
   "execution_count": 10,
   "metadata": {},
   "outputs": [
    {
     "data": {
      "text/plain": [
       "7-element Vector{Float64}:\n",
       " 26.2208\n",
       " 21.2288\n",
       " 20.388799999999996\n",
       " 20.388799999999996\n",
       " 20.388799999999996\n",
       " 10.6144\n",
       " 15.7624"
      ]
     },
     "metadata": {},
     "output_type": "display_data"
    }
   ],
   "source": [
    "# link time\n",
    "t = BPR.(cap, fft, alpha, beta, x)"
   ]
  },
  {
   "cell_type": "code",
   "execution_count": 11,
   "metadata": {},
   "outputs": [
    {
     "data": {
      "text/plain": [
       "3-element Vector{Float64}:\n",
       " 66.9984\n",
       " 62.372\n",
       " 47.605599999999995"
      ]
     },
     "metadata": {},
     "output_type": "display_data"
    }
   ],
   "source": [
    "# path time\n",
    "c = Δ' * t"
   ]
  },
  {
   "cell_type": "code",
   "execution_count": 12,
   "metadata": {},
   "outputs": [
    {
     "data": {
      "text/plain": [
       "3-element Vector{Float64}:\n",
       "  3.7828036716149295e-7\n",
       "  3.863970418983494e-5\n",
       " 99.99996098201545"
      ]
     },
     "metadata": {},
     "output_type": "display_data"
    }
   ],
   "source": [
    "f = Logit(c) * dem"
   ]
  },
  {
   "attachments": {},
   "cell_type": "markdown",
   "metadata": {},
   "source": [
    "## Formulation\n",
    "It is a fixed point problem with respect to path flow. \n",
    "$$\n",
    "\\mathbf{f} = F(\\mathbf{f}) \\Rightarrow \\mathbf{f = q * Pr(-\\Delta^{T}t(\\Delta f))}\n",
    "$$\n",
    "\n",
    "Alternatively, we can also write it as a fixed point problem with respect to link flow.\n",
    "$$\n",
    "\\mathbf{x} = G(\\mathbf{x}) \\Rightarrow \\mathbf{x = \\Delta q * Pr(-\\Delta^{T}t(x))}\n",
    "$$\n",
    "\n",
    "We use MSA method to solve this fixed point problem with respect to path flow. "
   ]
  },
  {
   "cell_type": "code",
   "execution_count": 13,
   "metadata": {},
   "outputs": [
    {
     "data": {
      "text/plain": [
       "3-element Vector{Int64}:\n",
       " 100\n",
       "   0\n",
       "   0"
      ]
     },
     "metadata": {},
     "output_type": "display_data"
    }
   ],
   "source": [
    "# intial value\n",
    "f = [100; 0; 0]"
   ]
  },
  {
   "cell_type": "code",
   "execution_count": 14,
   "metadata": {},
   "outputs": [
    {
     "data": {
      "text/plain": [
       "3-element Vector{Float64}:\n",
       " 50.0\n",
       "  3.23511746282273e-24\n",
       " 50.0"
      ]
     },
     "metadata": {},
     "output_type": "display_data"
    }
   ],
   "source": [
    "# iteration 1\n",
    "iter = 1\n",
    "x = Δ * f\n",
    "t = BPR.(cap, fft, alpha, beta, x)\n",
    "c = Δ' * t\n",
    "f_aux = Logit(c) * dem\n",
    "f = (f_aux + iter * f) / (1 + iter)"
   ]
  },
  {
   "cell_type": "code",
   "execution_count": 15,
   "metadata": {},
   "outputs": [
    {
     "data": {
      "text/plain": [
       "3-element Vector{Float64}:\n",
       " 33.33333333675326\n",
       "  0.006780899267811179\n",
       " 66.65988576397892"
      ]
     },
     "metadata": {},
     "output_type": "display_data"
    }
   ],
   "source": [
    "# iteration 2\n",
    "iter = 2\n",
    "x = Δ * f\n",
    "t = BPR.(cap, fft, alpha, beta, x)\n",
    "c = Δ' * t\n",
    "f_aux = Logit(c) * dem\n",
    "f = (f_aux + iter * f) / (1 + iter)"
   ]
  },
  {
   "cell_type": "code",
   "execution_count": 16,
   "metadata": {},
   "outputs": [
    {
     "data": {
      "text/plain": [
       "3-element Vector{Float64}:\n",
       " 25.038640353662107\n",
       " 24.317479701630738\n",
       " 50.643879944707145"
      ]
     },
     "metadata": {},
     "output_type": "display_data"
    }
   ],
   "source": [
    "# iteration 3\n",
    "iter = 3\n",
    "x = Δ * f\n",
    "t = BPR.(cap, fft, alpha, beta, x)\n",
    "c = Δ' * t\n",
    "f_aux = Logit(c) * dem\n",
    "f = (f_aux + iter * f) / (1 + iter)"
   ]
  },
  {
   "cell_type": "code",
   "execution_count": 17,
   "metadata": {},
   "outputs": [
    {
     "data": {
      "text/plain": [
       "3-element Vector{Float64}:\n",
       " 20.031277190680107\n",
       " 19.459053314183905\n",
       " 60.509669495135974"
      ]
     },
     "metadata": {},
     "output_type": "display_data"
    }
   ],
   "source": [
    "# iteration 4\n",
    "iter = 4\n",
    "x = Δ * f\n",
    "t = BPR.(cap, fft, alpha, beta, x)\n",
    "c = Δ' * t\n",
    "f_aux = Logit(c) * dem\n",
    "f = (f_aux + iter * f) / (1 + iter)"
   ]
  },
  {
   "cell_type": "code",
   "execution_count": 18,
   "metadata": {},
   "outputs": [
    {
     "data": {
      "text/plain": [
       "3-element Vector{Float64}:\n",
       " 18.608477833206802\n",
       " 18.72720868604431\n",
       " 62.664313480748866"
      ]
     },
     "metadata": {},
     "output_type": "display_data"
    }
   ],
   "source": [
    "# iteration 5\n",
    "iter = 5\n",
    "x = Δ * f\n",
    "t = BPR.(cap, fft, alpha, beta, x)\n",
    "c = Δ' * t\n",
    "f_aux = Logit(c) * dem\n",
    "f = (f_aux + iter * f) / (1 + iter)"
   ]
  },
  {
   "cell_type": "code",
   "execution_count": 19,
   "metadata": {},
   "outputs": [
    {
     "name": "stdout",
     "output_type": "stream",
     "text": [
      "f_aux = [19.505688245072662, 19.411985387194054, 61.08232636773327]\n",
      "f     = [19.505688245104935, 19.411985387147734, 61.08232636774742]\n",
      "x     = [38.91767363225267, 61.08232636774742, 19.505688245104935, 19.411985387147734, 19.505688245104935, 61.08232636774742, 80.49431175489515]\n"
     ]
    }
   ],
   "source": [
    "# Let's do it for many loops.\n",
    "f = [100; 0; 0]\n",
    "f_aux = []\n",
    "for iter in 1:1000\n",
    "    f_aux = dem * Logit(Δ' * BPR.(cap, fft, alpha, beta, Δ * f))\n",
    "    f = (f_aux  + iter * f) / (1 + iter)\n",
    "end\n",
    "println(\"f_aux = $f_aux\")\n",
    "println(\"f     = $f\")\n",
    "println(\"x     = $(Δ*f)\")"
   ]
  },
  {
   "cell_type": "code",
   "execution_count": 20,
   "metadata": {},
   "outputs": [
    {
     "name": "stdout",
     "output_type": "stream",
     "text": [
      "x_aux = [38.9176736322585, 61.08232636774149, 19.50568824508956, 19.41198538716894, 19.50568824508956, 61.08232636774149, 80.49431175491043]\n",
      "x     = [38.9176736322545, 61.08232636774574, 19.505688245100558, 19.411985387153848, 19.505688245100558, 61.08232636774574, 80.49431175489903]\n",
      "f     = [77.9290501224556, 138.82397077430738, 202.65896449039053]. Error: we cannot know path flow from link flows."
     ]
    },
    {
     "name": "stdout",
     "output_type": "stream",
     "text": [
      "\n"
     ]
    }
   ],
   "source": [
    "# Let's also do it link flow fixed point problem.\n",
    "# Initial value\n",
    "f = [0; 100; 0]\n",
    "x = Δ*f\n",
    "x_aux = []\n",
    "for iter in 1:1000\n",
    "    x_aux = Δ * dem * Logit(Δ' * BPR.(cap, fft, alpha, beta, x))\n",
    "    x = (x_aux  + iter * x) / (1 + iter)\n",
    "end\n",
    "println(\"x_aux = $x_aux\")\n",
    "println(\"x     = $x\")\n",
    "println(\"f     = $(Δ'*x). Error: we cannot know path flow from link flows.\")"
   ]
  },
  {
   "attachments": {},
   "cell_type": "markdown",
   "metadata": {},
   "source": [
    "## The auxiliary solution converges to the current solution."
   ]
  }
 ],
 "metadata": {
  "kernelspec": {
   "display_name": "Julia 1.8.2",
   "language": "julia",
   "name": "julia-1.8"
  },
  "language_info": {
   "file_extension": ".jl",
   "mimetype": "application/julia",
   "name": "julia",
   "version": "1.8.2"
  },
  "orig_nbformat": 4
 },
 "nbformat": 4,
 "nbformat_minor": 2
}
