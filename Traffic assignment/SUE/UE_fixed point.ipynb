{
 "cells": [
  {
   "attachments": {},
   "cell_type": "markdown",
   "metadata": {},
   "source": [
    "# UE: an illustration of fixed point formulation with MSA as the solution algorithm."
   ]
  },
  {
   "cell_type": "code",
   "execution_count": 16,
   "metadata": {},
   "outputs": [],
   "source": [
    "using DelimitedFiles:readdlm"
   ]
  },
  {
   "attachments": {},
   "cell_type": "markdown",
   "metadata": {},
   "source": [
    "## Problem setting."
   ]
  },
  {
   "attachments": {},
   "cell_type": "markdown",
   "metadata": {},
   "source": [
    "<img src=\"data/Caliper_net.png\" width=\"800\">"
   ]
  },
  {
   "cell_type": "code",
   "execution_count": 17,
   "metadata": {},
   "outputs": [
    {
     "data": {
      "text/plain": [
       "1×10 Matrix{AbstractString}:\n",
       " \"tail\"  \"head\"  \"cap\"  \"length\"  \"fft\"  …  \"speedLimit\"  \"toll\"  \"link_type\""
      ]
     },
     "metadata": {},
     "output_type": "display_data"
    }
   ],
   "source": [
    "netFile = \"data/network.csv\"\n",
    "csvdata = readdlm(netFile, ',', header=true)\n",
    "data = csvdata[1]\n",
    "header = csvdata[2]"
   ]
  },
  {
   "cell_type": "code",
   "execution_count": 18,
   "metadata": {},
   "outputs": [
    {
     "data": {
      "text/plain": [
       "1×10 Matrix{AbstractString}:\n",
       " \"tail\"  \"head\"  \"cap\"  \"length\"  \"fft\"  …  \"speedLimit\"  \"toll\"  \"link_type\""
      ]
     },
     "metadata": {},
     "output_type": "display_data"
    },
    {
     "data": {
      "text/plain": [
       "7×10 Matrix{Float64}:\n",
       " 1.0  2.0  50.0  20.0  20.0  0.15  4.0  60.0  0.0  1.0\n",
       " 1.0  4.0  50.0  20.0  20.0  0.15  4.0  60.0  0.0  1.0\n",
       " 2.0  3.0  50.0  20.0  20.0  0.15  4.0  60.0  0.0  1.0\n",
       " 2.0  5.0  50.0  20.0  20.0  0.15  4.0  60.0  0.0  1.0\n",
       " 3.0  6.0  50.0  20.0  20.0  0.15  4.0  60.0  0.0  1.0\n",
       " 4.0  5.0  50.0  20.0  10.0  0.15  4.0  60.0  4.0  1.0\n",
       " 5.0  6.0  50.0  20.0  10.0  0.15  4.0  60.0  2.0  1.0"
      ]
     },
     "metadata": {},
     "output_type": "display_data"
    }
   ],
   "source": [
    "display(header)\n",
    "display(data)"
   ]
  },
  {
   "cell_type": "code",
   "execution_count": 19,
   "metadata": {},
   "outputs": [
    {
     "data": {
      "text/plain": [
       "100.0"
      ]
     },
     "metadata": {},
     "output_type": "display_data"
    }
   ],
   "source": [
    "links = []\n",
    "for l in zip(round.(Int, data[:,1]), round.(Int, data[:,2]))\n",
    "    push!(links, l)\n",
    "end\n",
    "cap = data[:, 3]\n",
    "fft = data[:, 5]\n",
    "alpha = data[:, 6]\n",
    "beta = data[:, 7]\n",
    "dem = 100.0"
   ]
  },
  {
   "cell_type": "code",
   "execution_count": 20,
   "metadata": {},
   "outputs": [
    {
     "data": {
      "text/plain": [
       "BPR (generic function with 1 method)"
      ]
     },
     "metadata": {},
     "output_type": "display_data"
    }
   ],
   "source": [
    "# BPR function\n",
    "function BPR(cap, fft, alpha, beta,  flow)\n",
    "    return fft * (1 + alpha * (flow/cap) ^ beta)\n",
    "end"
   ]
  },
  {
   "cell_type": "code",
   "execution_count": 21,
   "metadata": {},
   "outputs": [
    {
     "data": {
      "text/plain": [
       "AoN (generic function with 2 methods)"
      ]
     },
     "metadata": {},
     "output_type": "display_data"
    }
   ],
   "source": [
    "# AoN choice probability\n",
    "function AoN(cost)\n",
    "    prob = zeros(size(cost))\n",
    "    prob[argmin(cost)] = 1.0\n",
    "    return prob\n",
    "end"
   ]
  },
  {
   "cell_type": "code",
   "execution_count": 22,
   "metadata": {},
   "outputs": [
    {
     "data": {
      "text/plain": [
       "7-element Vector{Any}:\n",
       " (1, 2)\n",
       " (1, 4)\n",
       " (2, 3)\n",
       " (2, 5)\n",
       " (3, 6)\n",
       " (4, 5)\n",
       " (5, 6)"
      ]
     },
     "metadata": {},
     "output_type": "display_data"
    },
    {
     "data": {
      "text/plain": [
       "7×3 Matrix{Int64}:\n",
       " 1  1  0\n",
       " 0  0  1\n",
       " 1  0  0\n",
       " 0  1  0\n",
       " 1  0  0\n",
       " 0  0  1\n",
       " 0  1  1"
      ]
     },
     "metadata": {},
     "output_type": "display_data"
    }
   ],
   "source": [
    "# link-path incidence matrix (a 7 x 3 matrix)\n",
    "display(links)\n",
    "Δ = Matrix([\n",
    "    1 1 0;\n",
    "    0 0 1;\n",
    "    1 0 0;\n",
    "    0 1 0;\n",
    "    1 0 0;\n",
    "    0 0 1;\n",
    "    0 1 1\n",
    "    ])"
   ]
  },
  {
   "attachments": {},
   "cell_type": "markdown",
   "metadata": {},
   "source": [
    "## Formulation\n",
    "It is a fixed point problem with respect to path flow. \n",
    "$$\n",
    "\\mathbf{f} = F(\\mathbf{f}) \\Rightarrow \\mathbf{f = q * Pr(-\\Delta^{T}t(\\Delta f))}\n",
    "$$\n",
    "\n",
    "Alternatively, we can also write it as a fixed point problem with respect to link flow.\n",
    "$$\n",
    "\\mathbf{x} = G(\\mathbf{x}) \\Rightarrow \\mathbf{x = \\Delta q * Pr(-\\Delta^{T}t(x))}\n",
    "$$\n",
    "\n",
    "We use MSA method to solve this fixed point problem with respect to path flow. "
   ]
  },
  {
   "cell_type": "code",
   "execution_count": 23,
   "metadata": {},
   "outputs": [
    {
     "data": {
      "text/plain": [
       "3-element Vector{Int64}:\n",
       " 100\n",
       "   0\n",
       "   0"
      ]
     },
     "metadata": {},
     "output_type": "display_data"
    }
   ],
   "source": [
    "# intial value\n",
    "f = [100; 0; 0]"
   ]
  },
  {
   "cell_type": "code",
   "execution_count": 24,
   "metadata": {},
   "outputs": [
    {
     "data": {
      "text/plain": [
       "3-element Vector{Float64}:\n",
       " 50.0\n",
       "  0.0\n",
       " 50.0"
      ]
     },
     "metadata": {},
     "output_type": "display_data"
    }
   ],
   "source": [
    "# iteration 1\n",
    "iter = 1\n",
    "x = Δ * f\n",
    "t = BPR.(cap, fft, alpha, beta, x)\n",
    "c = Δ' * t\n",
    "f_aux = AoN(c) * dem\n",
    "f = (f_aux + iter * f) / (1 + iter)"
   ]
  },
  {
   "cell_type": "code",
   "execution_count": 25,
   "metadata": {},
   "outputs": [
    {
     "data": {
      "text/plain": [
       "3-element Vector{Float64}:\n",
       " 33.333333333333336\n",
       "  0.0\n",
       " 66.66666666666667"
      ]
     },
     "metadata": {},
     "output_type": "display_data"
    }
   ],
   "source": [
    "# iteration 2\n",
    "iter = 2\n",
    "x = Δ * f\n",
    "t = BPR.(cap, fft, alpha, beta, x)\n",
    "c = Δ' * t\n",
    "f_aux = AoN(c) * dem\n",
    "f = (f_aux + iter * f) / (1 + iter)"
   ]
  },
  {
   "cell_type": "code",
   "execution_count": 26,
   "metadata": {},
   "outputs": [
    {
     "data": {
      "text/plain": [
       "3-element Vector{Float64}:\n",
       " 25.0\n",
       " 25.0\n",
       " 50.0"
      ]
     },
     "metadata": {},
     "output_type": "display_data"
    }
   ],
   "source": [
    "# iteration 3\n",
    "iter = 3\n",
    "x = Δ * f\n",
    "t = BPR.(cap, fft, alpha, beta, x)\n",
    "c = Δ' * t\n",
    "f_aux = AoN(c) * dem\n",
    "f = (f_aux + iter * f) / (1 + iter)"
   ]
  },
  {
   "cell_type": "code",
   "execution_count": 27,
   "metadata": {},
   "outputs": [
    {
     "data": {
      "text/plain": [
       "3-element Vector{Float64}:\n",
       " 20.0\n",
       " 20.0\n",
       " 60.0"
      ]
     },
     "metadata": {},
     "output_type": "display_data"
    }
   ],
   "source": [
    "# iteration 4\n",
    "iter = 4\n",
    "x = Δ * f\n",
    "t = BPR.(cap, fft, alpha, beta, x)\n",
    "c = Δ' * t\n",
    "f_aux = AoN(c) * dem\n",
    "f = (f_aux + iter * f) / (1 + iter)"
   ]
  },
  {
   "cell_type": "code",
   "execution_count": 28,
   "metadata": {},
   "outputs": [
    {
     "data": {
      "text/plain": [
       "3-element Vector{Float64}:\n",
       " 16.666666666666668\n",
       " 16.666666666666668\n",
       " 66.66666666666667"
      ]
     },
     "metadata": {},
     "output_type": "display_data"
    }
   ],
   "source": [
    "# iteration 5\n",
    "iter = 5\n",
    "x = Δ * f\n",
    "t = BPR.(cap, fft, alpha, beta, x)\n",
    "c = Δ' * t\n",
    "f_aux = AoN(c) * dem\n",
    "f = (f_aux + iter * f) / (1 + iter)"
   ]
  },
  {
   "cell_type": "code",
   "execution_count": 29,
   "metadata": {},
   "outputs": [
    {
     "name": "stdout",
     "output_type": "stream",
     "text": [
      "f_aux = [100.0, 0.0, 0.0]\n",
      "f     = [19.488051194880615, 17.998200179982007, 62.51374862513749]\n",
      "c     = [61.086294019887205, 61.0826546307144, 61.08045715131012]\n",
      "x     = [37.48625137486262, 62.51374862513749, 19.488051194880615, 17.998200179982007, 19.488051194880615, 62.51374862513749, 80.51194880511949]\n"
     ]
    }
   ],
   "source": [
    "# Let's do it for many loops.\n",
    "f = [100; 0; 0]\n",
    "f_aux = []\n",
    "for iter in 1:10000\n",
    "    f_aux = dem * AoN(Δ' * BPR.(cap, fft, alpha, beta, Δ * f))\n",
    "    f = (f_aux  + iter * f) / (1 + iter)\n",
    "end\n",
    "c = Δ' * BPR.(cap, fft, alpha, beta, Δ * f)\n",
    "println(\"f_aux = $f_aux\")\n",
    "println(\"f     = $f\")\n",
    "println(\"c     = $c\")\n",
    "println(\"x     = $(Δ*f)\")"
   ]
  },
  {
   "cell_type": "code",
   "execution_count": 30,
   "metadata": {},
   "outputs": [
    {
     "name": "stdout",
     "output_type": "stream",
     "text": [
      "x_aux = [100.0, 0.0, 100.0, 0.0, 100.0, 0.0, 0.0]\n",
      "x     = [37.48625137486236, 62.51374862513749, 19.488051194880615, 17.998200179982007, 19.488051194880615, 62.51374862513749, 80.51194880511993]\n"
     ]
    }
   ],
   "source": [
    "# Let's also do it link flow fixed point problem.\n",
    "# Initial value\n",
    "f = [0; 100; 0]\n",
    "x = Δ*f\n",
    "x_aux = []\n",
    "for iter in 1:10000\n",
    "    x_aux = Δ * dem * AoN(Δ' * BPR.(cap, fft, alpha, beta, x))\n",
    "    x = (x_aux  + iter * x) / (1 + iter)\n",
    "end\n",
    "println(\"x_aux = $x_aux\")\n",
    "println(\"x     = $x\")"
   ]
  },
  {
   "attachments": {},
   "cell_type": "markdown",
   "metadata": {},
   "source": [
    "## The auxiliary solution converges to the current solution."
   ]
  }
 ],
 "metadata": {
  "kernelspec": {
   "display_name": "Julia 1.8.2",
   "language": "julia",
   "name": "julia-1.8"
  },
  "language_info": {
   "file_extension": ".jl",
   "mimetype": "application/julia",
   "name": "julia",
   "version": "1.8.2"
  },
  "orig_nbformat": 4
 },
 "nbformat": 4,
 "nbformat_minor": 2
}
