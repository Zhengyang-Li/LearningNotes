{
 "cells": [
  {
   "cell_type": "code",
   "execution_count": 150,
   "metadata": {},
   "outputs": [],
   "source": [
    "# using Pkg\n",
    "# Pkg.add(\"Distributions\")"
   ]
  },
  {
   "attachments": {},
   "cell_type": "markdown",
   "metadata": {},
   "source": [
    "# Probit-SUE: an illustration of fixed point formulation with MSA as the solution algorithm."
   ]
  },
  {
   "cell_type": "code",
   "execution_count": 151,
   "metadata": {},
   "outputs": [],
   "source": [
    "using DelimitedFiles:readdlm\n",
    "using Distributions:Normal, MvNormal\n",
    "import Random"
   ]
  },
  {
   "attachments": {},
   "cell_type": "markdown",
   "metadata": {},
   "source": [
    "## Problem setting."
   ]
  },
  {
   "attachments": {},
   "cell_type": "markdown",
   "metadata": {},
   "source": [
    "<img src=\"data/Caliper_net.png\" width=\"800\">"
   ]
  },
  {
   "cell_type": "code",
   "execution_count": 152,
   "metadata": {},
   "outputs": [
    {
     "data": {
      "text/plain": [
       "1×10 Matrix{AbstractString}:\n",
       " \"tail\"  \"head\"  \"cap\"  \"length\"  \"fft\"  …  \"speedLimit\"  \"toll\"  \"link_type\""
      ]
     },
     "metadata": {},
     "output_type": "display_data"
    }
   ],
   "source": [
    "netFile = \"data/network.csv\"\n",
    "csvdata = readdlm(netFile, ',', header=true)\n",
    "data = csvdata[1]\n",
    "header = csvdata[2]"
   ]
  },
  {
   "cell_type": "code",
   "execution_count": 153,
   "metadata": {},
   "outputs": [
    {
     "data": {
      "text/plain": [
       "1×10 Matrix{AbstractString}:\n",
       " \"tail\"  \"head\"  \"cap\"  \"length\"  \"fft\"  …  \"speedLimit\"  \"toll\"  \"link_type\""
      ]
     },
     "metadata": {},
     "output_type": "display_data"
    },
    {
     "data": {
      "text/plain": [
       "7×10 Matrix{Float64}:\n",
       " 1.0  2.0  50.0  20.0  20.0  0.15  4.0  60.0  0.0  1.0\n",
       " 1.0  4.0  50.0  20.0  20.0  0.15  4.0  60.0  0.0  1.0\n",
       " 2.0  3.0  50.0  20.0  20.0  0.15  4.0  60.0  0.0  1.0\n",
       " 2.0  5.0  50.0  20.0  20.0  0.15  4.0  60.0  0.0  1.0\n",
       " 3.0  6.0  50.0  20.0  20.0  0.15  4.0  60.0  0.0  1.0\n",
       " 4.0  5.0  50.0  20.0  10.0  0.15  4.0  60.0  4.0  1.0\n",
       " 5.0  6.0  50.0  20.0  10.0  0.15  4.0  60.0  2.0  1.0"
      ]
     },
     "metadata": {},
     "output_type": "display_data"
    }
   ],
   "source": [
    "display(header)\n",
    "display(data)"
   ]
  },
  {
   "cell_type": "code",
   "execution_count": 154,
   "metadata": {},
   "outputs": [
    {
     "data": {
      "text/plain": [
       "100.0"
      ]
     },
     "metadata": {},
     "output_type": "display_data"
    }
   ],
   "source": [
    "links = []\n",
    "for l in zip(round.(Int, data[:,1]), round.(Int, data[:,2]))\n",
    "    push!(links, l)\n",
    "end\n",
    "cap = data[:, 3]\n",
    "fft = data[:, 5]\n",
    "alpha = data[:, 6]\n",
    "beta = data[:, 7]\n",
    "dem = 100.0"
   ]
  },
  {
   "cell_type": "code",
   "execution_count": 155,
   "metadata": {},
   "outputs": [
    {
     "data": {
      "text/plain": [
       "BPR (generic function with 1 method)"
      ]
     },
     "metadata": {},
     "output_type": "display_data"
    }
   ],
   "source": [
    "# BPR function\n",
    "function BPR(cap, fft, alpha, beta,  flow)\n",
    "    return fft * (1 + alpha * (flow/cap) ^ beta)\n",
    "end"
   ]
  },
  {
   "attachments": {},
   "cell_type": "markdown",
   "metadata": {},
   "source": [
    "### The perception errors follow a multivariate normal distribution with $\\mathbf{\\mu=0}$ and zero covariance."
   ]
  },
  {
   "cell_type": "code",
   "execution_count": 156,
   "metadata": {},
   "outputs": [
    {
     "data": {
      "text/plain": [
       "3×1000 Matrix{Float64}:\n",
       " -2.04198  -0.688318   0.252846   1.30337  …  -1.10809    6.26602   2.62077\n",
       " -4.62721   1.55662    4.89876    1.87585     -0.417665   9.16882   0.736885\n",
       " -5.13429   3.10213   -4.24254   -2.42992     -3.93141   -4.91512  -0.979004"
      ]
     },
     "metadata": {},
     "output_type": "display_data"
    }
   ],
   "source": [
    "# Multivariate normal distribution\n",
    "μ = [0.0; 0.0; 0.0]\n",
    "Σ = Float64[\n",
    "    10 0 0;\n",
    "    0 10 0;\n",
    "    0 0 10;\n",
    "    ]\n",
    "\n",
    "Random.seed!(123)\n",
    "MVN = MvNormal(μ, Σ)\n",
    "samples = rand(MVN, 1000)"
   ]
  },
  {
   "cell_type": "code",
   "execution_count": 157,
   "metadata": {},
   "outputs": [
    {
     "data": {
      "text/plain": [
       "3-element Vector{Float64}:\n",
       " 0.392\n",
       " 0.349\n",
       " 0.259"
      ]
     },
     "metadata": {},
     "output_type": "display_data"
    }
   ],
   "source": [
    "# Probit probability using Monte-Carlo simulation\n",
    "function Probit(cost)\n",
    "    count = [0; 0; 0]\n",
    "    for error in eachcol(samples)\n",
    "        util = -(cost + error)\n",
    "        count[argmax(util)] += 1\n",
    "    end\n",
    "    return count / sum(count)\n",
    "end\n",
    "\n",
    "# test the Probit probability\n",
    "cost = [21.0, 21.1, 21.9]\n",
    "Probit(cost)"
   ]
  },
  {
   "cell_type": "code",
   "execution_count": 158,
   "metadata": {},
   "outputs": [
    {
     "data": {
      "text/plain": [
       "7-element Vector{Any}:\n",
       " (1, 2)\n",
       " (1, 4)\n",
       " (2, 3)\n",
       " (2, 5)\n",
       " (3, 6)\n",
       " (4, 5)\n",
       " (5, 6)"
      ]
     },
     "metadata": {},
     "output_type": "display_data"
    },
    {
     "data": {
      "text/plain": [
       "7×3 Matrix{Int64}:\n",
       " 1  1  0\n",
       " 0  0  1\n",
       " 1  0  0\n",
       " 0  1  0\n",
       " 1  0  0\n",
       " 0  0  1\n",
       " 0  1  1"
      ]
     },
     "metadata": {},
     "output_type": "display_data"
    }
   ],
   "source": [
    "# link-path incidence matrix (a 7 x 3 matrix)\n",
    "display(links)\n",
    "Δ = Matrix([\n",
    "    1 1 0;\n",
    "    0 0 1;\n",
    "    1 0 0;\n",
    "    0 1 0;\n",
    "    1 0 0;\n",
    "    0 0 1;\n",
    "    0 1 1\n",
    "    ])"
   ]
  },
  {
   "attachments": {},
   "cell_type": "markdown",
   "metadata": {},
   "source": [
    "## Formulation\n",
    "It is a fixed point problem with respect to path flow. \n",
    "$$\n",
    "\\mathbf{f} = F(\\mathbf{f}) \\Rightarrow \\mathbf{f = q * Pr(-\\Delta^{T}t(\\Delta f))}\n",
    "$$\n",
    "\n",
    "Alternatively, we can also write it as a fixed point problem with respect to link flow.\n",
    "$$\n",
    "\\mathbf{x} = G(\\mathbf{x}) \\Rightarrow \\mathbf{x = \\Delta q * Pr(-\\Delta^{T}t(x))}\n",
    "$$\n",
    "\n",
    "We use MSA method to solve this fixed point problem with respect to path flow. "
   ]
  },
  {
   "cell_type": "code",
   "execution_count": 159,
   "metadata": {},
   "outputs": [
    {
     "name": "stdout",
     "output_type": "stream",
     "text": [
      "f_aux = [20.4, 20.4, 59.199999999999996]\n",
      "f     = [20.338361638361405, 20.340459540459346, 59.321178821179124]\n",
      "x     = [40.678821178820755, 59.321178821179124, 20.338361638361405, 20.340459540459346, 20.338361638361405, 59.321178821179124, 79.66163836163847]\n"
     ]
    }
   ],
   "source": [
    "# Let's do it for many loops.\n",
    "f = [100; 0; 0]\n",
    "f_aux = []\n",
    "for iter in 1:1000\n",
    "    f_aux = dem * Probit(Δ' * BPR.(cap, fft, alpha, beta, Δ * f))\n",
    "    f = (f_aux  + iter * f) / (1 + iter)\n",
    "end\n",
    "println(\"f_aux = $f_aux\")\n",
    "println(\"f     = $f\")\n",
    "println(\"x     = $(Δ*f)\")"
   ]
  },
  {
   "attachments": {},
   "cell_type": "markdown",
   "metadata": {},
   "source": [
    "### Larger perception errors will equalize the paths."
   ]
  },
  {
   "cell_type": "code",
   "execution_count": 160,
   "metadata": {},
   "outputs": [
    {
     "data": {
      "text/plain": [
       "3×1000 Matrix{Float64}:\n",
       "  -64.5731  -21.7665     7.99568   41.2162  …   -35.041    198.149   82.8762\n",
       " -146.325    49.2246   154.912     59.3197      -13.2077   289.944   23.3024\n",
       " -162.36     98.098   -134.161    -76.8409     -124.322   -155.43   -30.9588"
      ]
     },
     "metadata": {},
     "output_type": "display_data"
    }
   ],
   "source": [
    "# Multivariate normal distribution\n",
    "μ = [0.0; 0.0; 0.0]\n",
    "Σ = Float64[\n",
    "    10000 0 0;\n",
    "    0 10000 0;\n",
    "    0 0 10000;\n",
    "    ]\n",
    "\n",
    "Random.seed!(123)\n",
    "MVN = MvNormal(μ, Σ)\n",
    "samples = rand(MVN, 1000)"
   ]
  },
  {
   "cell_type": "code",
   "execution_count": 161,
   "metadata": {},
   "outputs": [
    {
     "name": "stdout",
     "output_type": "stream",
     "text": [
      "f_aux = [32.0, 29.7, 38.3]\n",
      "f     = [32.0235764235764, 29.677422577423066, 38.29900099900104]\n",
      "x     = [61.70099900099947, 38.29900099900104, 32.0235764235764, 29.677422577423066, 32.0235764235764, 38.29900099900104, 67.97642357642411]\n"
     ]
    }
   ],
   "source": [
    "# Let's do it for many loops.\n",
    "f = [100; 0; 0]\n",
    "f_aux = []\n",
    "for iter in 1:1000\n",
    "    f_aux = dem * Probit(Δ' * BPR.(cap, fft, alpha, beta, Δ * f))\n",
    "    f = (f_aux  + iter * f) / (1 + iter)\n",
    "end\n",
    "println(\"f_aux = $f_aux\")\n",
    "println(\"f     = $f\")\n",
    "println(\"x     = $(Δ*f)\")"
   ]
  },
  {
   "attachments": {},
   "cell_type": "markdown",
   "metadata": {},
   "source": [
    "### The perception errors follow a multivariate normal distribution with $\\mathbf{\\mu=0}$ and non-zero covariance."
   ]
  },
  {
   "cell_type": "code",
   "execution_count": 162,
   "metadata": {},
   "outputs": [
    {
     "data": {
      "text/plain": [
       "3×1000 Matrix{Float64}:\n",
       " -2.04198  -0.688318   0.252846   1.30337   …  -1.10809    6.26602   2.62077\n",
       " -5.02827   1.00391    4.36888    2.27622      -0.915756  11.0734    1.94855\n",
       " -6.86365   3.43159   -0.635719  -0.900998     -3.45112    1.28044  -0.373912"
      ]
     },
     "metadata": {},
     "output_type": "display_data"
    }
   ],
   "source": [
    "# Multivariate normal distribution\n",
    "μ = [0.0; 0.0; 0.0]\n",
    "Σ = Float64[\n",
    "    10 5 0;\n",
    "    5 10 5;\n",
    "    0 5 10;\n",
    "    ]\n",
    "\n",
    "Random.seed!(123)\n",
    "MVN = MvNormal(μ, Σ)\n",
    "samples = rand(MVN, 1000)"
   ]
  },
  {
   "cell_type": "code",
   "execution_count": 163,
   "metadata": {},
   "outputs": [
    {
     "name": "stdout",
     "output_type": "stream",
     "text": [
      "f_aux = [21.4, 18.3, 60.3]\n",
      "f     = [21.35254745254736, 18.30009990009949, 60.347352647353674]\n",
      "x     = [39.65264735264685, 60.347352647353674, 21.35254745254736, 18.30009990009949, 21.35254745254736, 60.347352647353674, 78.64745254745316]\n"
     ]
    }
   ],
   "source": [
    "# Let's do it for many loops.\n",
    "f = [100; 0; 0]\n",
    "f_aux = []\n",
    "for iter in 1:1000\n",
    "    f_aux = dem * Probit(Δ' * BPR.(cap, fft, alpha, beta, Δ * f))\n",
    "    f = (f_aux  + iter * f) / (1 + iter)\n",
    "end\n",
    "println(\"f_aux = $f_aux\")\n",
    "println(\"f     = $f\")\n",
    "println(\"x     = $(Δ*f)\")"
   ]
  },
  {
   "attachments": {},
   "cell_type": "markdown",
   "metadata": {},
   "source": [
    "If we consider the covariance (i.e., overlapping), less people choose path 2."
   ]
  }
 ],
 "metadata": {
  "kernelspec": {
   "display_name": "Julia 1.8.2",
   "language": "julia",
   "name": "julia-1.8"
  },
  "language_info": {
   "file_extension": ".jl",
   "mimetype": "application/julia",
   "name": "julia",
   "version": "1.8.2"
  },
  "orig_nbformat": 4
 },
 "nbformat": 4,
 "nbformat_minor": 2
}
