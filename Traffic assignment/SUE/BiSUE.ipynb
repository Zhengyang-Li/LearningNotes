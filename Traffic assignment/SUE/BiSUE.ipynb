{
 "cells": [
  {
   "attachments": {},
   "cell_type": "markdown",
   "metadata": {},
   "source": [
    "# Bi-criteria SUE\n",
    "Cantarella, G. E., & Binetti, M. (1998). Stochastic Equilibrium Traffic Assignment with Value‐of‐time Distributed Among Users. International Transactions in Operational Research, 5(6), 541-553."
   ]
  },
  {
   "cell_type": "code",
   "execution_count": 1,
   "metadata": {},
   "outputs": [],
   "source": [
    "using DelimitedFiles:readdlm"
   ]
  },
  {
   "attachments": {},
   "cell_type": "markdown",
   "metadata": {},
   "source": [
    "## Problem setting."
   ]
  },
  {
   "attachments": {},
   "cell_type": "markdown",
   "metadata": {},
   "source": [
    "<img src=\"data/Caliper_net.png\" width=\"800\">"
   ]
  },
  {
   "cell_type": "code",
   "execution_count": 2,
   "metadata": {},
   "outputs": [
    {
     "data": {
      "text/plain": [
       "1×10 Matrix{AbstractString}:\n",
       " \"tail\"  \"head\"  \"cap\"  \"length\"  \"fft\"  …  \"speedLimit\"  \"toll\"  \"link_type\""
      ]
     },
     "metadata": {},
     "output_type": "display_data"
    }
   ],
   "source": [
    "netFile = \"data/network.csv\"\n",
    "csvdata = readdlm(netFile, ',', header=true)\n",
    "data = csvdata[1]\n",
    "header = csvdata[2]"
   ]
  },
  {
   "cell_type": "code",
   "execution_count": 3,
   "metadata": {},
   "outputs": [
    {
     "data": {
      "text/plain": [
       "1×10 Matrix{AbstractString}:\n",
       " \"tail\"  \"head\"  \"cap\"  \"length\"  \"fft\"  …  \"speedLimit\"  \"toll\"  \"link_type\""
      ]
     },
     "metadata": {},
     "output_type": "display_data"
    },
    {
     "data": {
      "text/plain": [
       "7×10 Matrix{Float64}:\n",
       " 1.0  2.0  50.0  20.0  20.0  0.15  4.0  60.0  0.0  1.0\n",
       " 1.0  4.0  50.0  20.0  20.0  0.15  4.0  60.0  0.0  1.0\n",
       " 2.0  3.0  50.0  20.0  20.0  0.15  4.0  60.0  0.0  1.0\n",
       " 2.0  5.0  50.0  20.0  20.0  0.15  4.0  60.0  0.0  1.0\n",
       " 3.0  6.0  50.0  20.0  20.0  0.15  4.0  60.0  0.0  1.0\n",
       " 4.0  5.0  50.0  20.0  10.0  0.15  4.0  60.0  4.0  1.0\n",
       " 5.0  6.0  50.0  20.0  10.0  0.15  4.0  60.0  2.0  1.0"
      ]
     },
     "metadata": {},
     "output_type": "display_data"
    }
   ],
   "source": [
    "display(header)\n",
    "display(data)"
   ]
  },
  {
   "cell_type": "code",
   "execution_count": 4,
   "metadata": {},
   "outputs": [
    {
     "data": {
      "text/plain": [
       "BPR (generic function with 1 method)"
      ]
     },
     "metadata": {},
     "output_type": "display_data"
    }
   ],
   "source": [
    "# BPR function\n",
    "function BPR(cap, fft, alpha, beta,  flow)\n",
    "    return fft * (1 + alpha * (flow/cap) ^ beta)\n",
    "end"
   ]
  },
  {
   "cell_type": "code",
   "execution_count": 5,
   "metadata": {},
   "outputs": [
    {
     "data": {
      "text/plain": [
       "Logit (generic function with 1 method)"
      ]
     },
     "metadata": {},
     "output_type": "display_data"
    }
   ],
   "source": [
    "# Logit probability\n",
    "function Logit(cost)\n",
    "    theta = 1.0\n",
    "    util = -cost\n",
    "    return exp.(theta * util) / sum(exp.(theta * util))\n",
    "end"
   ]
  },
  {
   "cell_type": "code",
   "execution_count": 6,
   "metadata": {},
   "outputs": [
    {
     "data": {
      "text/plain": [
       "100.0"
      ]
     },
     "metadata": {},
     "output_type": "display_data"
    }
   ],
   "source": [
    "links = []\n",
    "for l in zip(round.(Int, data[:,1]), round.(Int, data[:,2]))\n",
    "    push!(links, l)\n",
    "end\n",
    "cap = data[:, 3]\n",
    "fft = data[:, 5] / 60\n",
    "alpha = data[:, 6]\n",
    "beta = data[:, 7]\n",
    "toll = data[:, 9]\n",
    "dem = 100.0"
   ]
  },
  {
   "cell_type": "code",
   "execution_count": 7,
   "metadata": {},
   "outputs": [
    {
     "data": {
      "text/plain": [
       "7-element Vector{Any}:\n",
       " (1, 2)\n",
       " (1, 4)\n",
       " (2, 3)\n",
       " (2, 5)\n",
       " (3, 6)\n",
       " (4, 5)\n",
       " (5, 6)"
      ]
     },
     "metadata": {},
     "output_type": "display_data"
    },
    {
     "data": {
      "text/plain": [
       "7×3 Matrix{Int64}:\n",
       " 1  1  0\n",
       " 0  0  1\n",
       " 1  0  0\n",
       " 0  1  0\n",
       " 1  0  0\n",
       " 0  0  1\n",
       " 0  1  1"
      ]
     },
     "metadata": {},
     "output_type": "display_data"
    }
   ],
   "source": [
    "# link-path incidence matrix (a 7 x 3 matrix)\n",
    "display(links)\n",
    "Δ = Matrix([\n",
    "    1 1 0;\n",
    "    0 0 1;\n",
    "    1 0 0;\n",
    "    0 1 0;\n",
    "    1 0 0;\n",
    "    0 0 1;\n",
    "    0 1 1\n",
    "    ])"
   ]
  },
  {
   "attachments": {},
   "cell_type": "markdown",
   "metadata": {},
   "source": [
    "## Formulation\n",
    "It is a fixed point problem with respect to path flow. \n",
    "$$\n",
    "\\mathbf{f} = F(\\mathbf{f}) \\Rightarrow \\mathbf{f = q * Pr(-\\Delta^{T}t(\\Delta f))}\n",
    "$$\n",
    "\n",
    "Alternatively, we can also write it as a fixed point problem with respect to link flow.\n",
    "$$\n",
    "\\mathbf{x} = G(\\mathbf{x}) \\Rightarrow \\mathbf{x = \\Delta q * Pr(-\\Delta^{T}t(x))}\n",
    "$$\n",
    "\n",
    "We use MSA method to solve this fixed point problem with respect to path flow. "
   ]
  },
  {
   "attachments": {},
   "cell_type": "markdown",
   "metadata": {},
   "source": [
    "## VOT is a deterministic variable\n",
    "We can directly extend the model by inserting the generalized cost mapping."
   ]
  },
  {
   "cell_type": "code",
   "execution_count": 8,
   "metadata": {},
   "outputs": [
    {
     "data": {
      "text/plain": [
       "10"
      ]
     },
     "metadata": {},
     "output_type": "display_data"
    }
   ],
   "source": [
    "# Deterministic VOT\n",
    "vot = 10"
   ]
  },
  {
   "cell_type": "code",
   "execution_count": 9,
   "metadata": {},
   "outputs": [
    {
     "name": "stdout",
     "output_type": "stream",
     "text": [
      "f_aux = [35.85607790051056, 32.96585336041948, 31.178068739069964]\n",
      "f     = [35.85706201081719, 32.96454234750634, 31.17839564167633]\n",
      "g     = [1.205918462719906, 1.2899592741331283, 1.3457166300689232]\n"
     ]
    }
   ],
   "source": [
    "# Use MSA to solve this problem. Time-based BiSUE model.\n",
    "f = [100; 0; 0]\n",
    "f_aux = []\n",
    "for iter in 1:10000\n",
    "    f_aux = dem * Logit(Δ' * BPR.(cap, fft, alpha, beta, Δ * f) + 1/vot * Δ' * toll)\n",
    "    f = (f_aux  + iter * f) / (1 + iter)\n",
    "end\n",
    "println(\"f_aux = $f_aux\")\n",
    "println(\"f     = $f\")\n",
    "println(\"g     = $(Δ' * BPR.(cap, fft, alpha, beta, Δ * f) + 1/vot * Δ' * toll)\")"
   ]
  },
  {
   "cell_type": "code",
   "execution_count": 10,
   "metadata": {},
   "outputs": [
    {
     "name": "stdout",
     "output_type": "stream",
     "text": [
      "f_aux = [42.30235678066016, 30.347726442456047, 27.34991677688379]\n",
      "f     = [42.302356899637395, 30.347726255412482, 27.349916844950236]\n",
      "g     = [12.740975493883631, 13.07309669082669, 13.177104808268048]\n"
     ]
    }
   ],
   "source": [
    "# Use MSA to solve this problem. Money-based BiSUE model.\n",
    "f = [100; 0; 0]\n",
    "f_aux = []\n",
    "for iter in 1:10000\n",
    "    f_aux = dem * Logit(Δ' * BPR.(cap, fft, alpha, beta, Δ * f) * vot + Δ' * toll)\n",
    "    f = (f_aux  + iter * f) / (1 + iter)\n",
    "end\n",
    "println(\"f_aux = $f_aux\")\n",
    "println(\"f     = $f\")\n",
    "println(\"g     = $(Δ' * BPR.(cap, fft, alpha, beta, Δ * f) * vot + Δ' * toll)\")"
   ]
  },
  {
   "attachments": {},
   "cell_type": "markdown",
   "metadata": {},
   "source": [
    "In the case of SUE, even though taking the same parameters and using a linear combination to form the generalized cost, the time-based BiSUE and money-based BiSUE will still produce different results. Because the generalized costs in the two settings have different magnitudes and the Logit model uses the absolute difference to determine the probability. Therefore, it will produce different choice probabilities. This inconsistency will resolve if we take the relative difference to calculate the probability."
   ]
  },
  {
   "attachments": {},
   "cell_type": "markdown",
   "metadata": {},
   "source": [
    "## VOT is a discrete random variable"
   ]
  },
  {
   "cell_type": "code",
   "execution_count": 11,
   "metadata": {},
   "outputs": [
    {
     "data": {
      "text/plain": [
       "3-element Vector{Float64}:\n",
       " 0.3\n",
       " 0.5\n",
       " 0.2"
      ]
     },
     "metadata": {},
     "output_type": "display_data"
    }
   ],
   "source": [
    "# VOT is a discrete random variable\n",
    "vot = [10; 20; 30] # the possible VOT value\n",
    "η = [0.3; 0.5; 0.2] # probability of a user to have a VOT"
   ]
  },
  {
   "cell_type": "code",
   "execution_count": 12,
   "metadata": {},
   "outputs": [
    {
     "name": "stdout",
     "output_type": "stream",
     "text": [
      "f_aux = [33.2338840673759, 32.3287185317741, 34.43739740085001]\n",
      "f     = [33.235031032018426, 32.32721436934061, 34.43775459864037]\n",
      "g(1)  = [1.1673315944823135, 1.2693602444698213, 1.3630240531801023]\n",
      "g(2)  = [1.1673315944823135, 1.1693602444698215, 1.063024053180102]\n",
      "g(3)  = [1.1673315944823135, 1.136026911136488, 0.9630240531801022]\n"
     ]
    }
   ],
   "source": [
    "# Use MSA to solve this problem. Time-based BiSUE model.\n",
    "f = [100; 0; 0]\n",
    "f_aux = []\n",
    "for iter in 1:10000\n",
    "    f_aux = [0.0; 0.0; 0.0]\n",
    "    for (i, v) in enumerate(vot)\n",
    "        f_aux += dem * η[i] * Logit(Δ' * BPR.(cap, fft, alpha, beta, Δ * f) + 1/vot[i] * Δ' * toll)\n",
    "    end\n",
    "    f = (f_aux  + iter * f) / (1 + iter)\n",
    "end\n",
    "println(\"f_aux = $f_aux\")\n",
    "println(\"f     = $f\")\n",
    "println(\"g(1)  = $(Δ' * BPR.(cap, fft, alpha, beta, Δ * f) + 1/vot[1] * Δ' * toll)\")\n",
    "println(\"g(2)  = $(Δ' * BPR.(cap, fft, alpha, beta, Δ * f) + 1/vot[2] * Δ' * toll)\")\n",
    "println(\"g(3)  = $(Δ' * BPR.(cap, fft, alpha, beta, Δ * f) + 1/vot[3] * Δ' * toll)\")"
   ]
  },
  {
   "attachments": {},
   "cell_type": "markdown",
   "metadata": {},
   "source": [
    "## VOT is a continuous random variable"
   ]
  },
  {
   "cell_type": "code",
   "execution_count": 13,
   "metadata": {},
   "outputs": [
    {
     "data": {
      "text/plain": [
       "PDF (generic function with 1 method)"
      ]
     },
     "metadata": {},
     "output_type": "display_data"
    }
   ],
   "source": [
    "# Let's consider a uniformly distributed VOT with support [10, 30]\n",
    "function PDF(x::Float64)\n",
    "    if x < 10.0 || x > 30.0\n",
    "        return 0.0\n",
    "    else\n",
    "        return 1.0 / (30 - 10)\n",
    "    end\n",
    "end"
   ]
  },
  {
   "attachments": {},
   "cell_type": "markdown",
   "metadata": {},
   "source": [
    "## See the PDF file. It is hard to get the analytical for for this network."
   ]
  }
 ],
 "metadata": {
  "kernelspec": {
   "display_name": "Julia 1.8.5",
   "language": "julia",
   "name": "julia-1.8"
  },
  "language_info": {
   "file_extension": ".jl",
   "mimetype": "application/julia",
   "name": "julia",
   "version": "1.8.5"
  },
  "orig_nbformat": 4
 },
 "nbformat": 4,
 "nbformat_minor": 2
}
