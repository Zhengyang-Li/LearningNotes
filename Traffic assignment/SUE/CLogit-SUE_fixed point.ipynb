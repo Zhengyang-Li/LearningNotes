{
 "cells": [
  {
   "attachments": {},
   "cell_type": "markdown",
   "metadata": {},
   "source": [
    "# CLogit-SUE: an illustration of fixed point formulation with MSA as the solution algorithm.\n",
    "Reference: Zhou, Z., Chen, A., & Bekhor, S. (2012). C-logit stochastic user equilibrium model: formulations and solution algorithm. Transportmetrica, 8(1), 17-41."
   ]
  },
  {
   "cell_type": "code",
   "execution_count": 348,
   "metadata": {},
   "outputs": [],
   "source": [
    "using DelimitedFiles:readdlm"
   ]
  },
  {
   "attachments": {},
   "cell_type": "markdown",
   "metadata": {},
   "source": [
    "## Problem setting."
   ]
  },
  {
   "attachments": {},
   "cell_type": "markdown",
   "metadata": {},
   "source": [
    "<img src=\"data/Caliper_net.png\" width=\"800\">"
   ]
  },
  {
   "cell_type": "code",
   "execution_count": 349,
   "metadata": {},
   "outputs": [
    {
     "data": {
      "text/plain": [
       "1×10 Matrix{AbstractString}:\n",
       " \"tail\"  \"head\"  \"cap\"  \"length\"  \"fft\"  …  \"speedLimit\"  \"toll\"  \"link_type\""
      ]
     },
     "metadata": {},
     "output_type": "display_data"
    }
   ],
   "source": [
    "netFile = \"data/network.csv\"\n",
    "csvdata = readdlm(netFile, ',', header=true)\n",
    "data = csvdata[1]\n",
    "header = csvdata[2]"
   ]
  },
  {
   "cell_type": "code",
   "execution_count": 350,
   "metadata": {},
   "outputs": [
    {
     "data": {
      "text/plain": [
       "1×10 Matrix{AbstractString}:\n",
       " \"tail\"  \"head\"  \"cap\"  \"length\"  \"fft\"  …  \"speedLimit\"  \"toll\"  \"link_type\""
      ]
     },
     "metadata": {},
     "output_type": "display_data"
    },
    {
     "data": {
      "text/plain": [
       "7×10 Matrix{Float64}:\n",
       " 1.0  2.0  50.0  20.0  20.0  0.15  4.0  60.0  0.0  1.0\n",
       " 1.0  4.0  50.0  20.0  20.0  0.15  4.0  60.0  0.0  1.0\n",
       " 2.0  3.0  50.0  20.0  20.0  0.15  4.0  60.0  0.0  1.0\n",
       " 2.0  5.0  50.0  20.0  20.0  0.15  4.0  60.0  0.0  1.0\n",
       " 3.0  6.0  50.0  20.0  20.0  0.15  4.0  60.0  0.0  1.0\n",
       " 4.0  5.0  50.0  20.0  10.0  0.15  4.0  60.0  4.0  1.0\n",
       " 5.0  6.0  50.0  20.0  10.0  0.15  4.0  60.0  2.0  1.0"
      ]
     },
     "metadata": {},
     "output_type": "display_data"
    }
   ],
   "source": [
    "display(header)\n",
    "display(data)"
   ]
  },
  {
   "cell_type": "code",
   "execution_count": 351,
   "metadata": {},
   "outputs": [
    {
     "data": {
      "text/plain": [
       "100.0"
      ]
     },
     "metadata": {},
     "output_type": "display_data"
    }
   ],
   "source": [
    "links = []\n",
    "for l in zip(round.(Int, data[:,1]), round.(Int, data[:,2]))\n",
    "    push!(links, l)\n",
    "end\n",
    "cap = data[:, 3]\n",
    "length = data[:, 4]\n",
    "fft = data[:, 5]\n",
    "alpha = data[:, 6]\n",
    "beta = data[:, 7]\n",
    "dem = 100.0"
   ]
  },
  {
   "cell_type": "code",
   "execution_count": 352,
   "metadata": {},
   "outputs": [
    {
     "data": {
      "text/plain": [
       "3×3 Matrix{Float64}:\n",
       "  0.0  20.0   0.0\n",
       " 20.0   0.0  20.0\n",
       "  0.0  20.0   0.0"
      ]
     },
     "metadata": {},
     "output_type": "display_data"
    }
   ],
   "source": [
    "path_length = [60.0; 60.0; 60.0]\n",
    "overlap = zeros(Float64, 3, 3)\n",
    "overlap[1, 2] = 20\n",
    "overlap[1, 3] = 0\n",
    "overlap[2, 1] = 20\n",
    "overlap[2, 3] = 20\n",
    "overlap[3, 1] = 0\n",
    "overlap[3, 2] = 20\n",
    "overlap"
   ]
  },
  {
   "cell_type": "code",
   "execution_count": 353,
   "metadata": {},
   "outputs": [
    {
     "data": {
      "text/plain": [
       "BPR (generic function with 1 method)"
      ]
     },
     "metadata": {},
     "output_type": "display_data"
    }
   ],
   "source": [
    "# BPR function\n",
    "function BPR(cap, fft, alpha, beta,  flow)\n",
    "    return fft * (1 + alpha * (flow/cap) ^ beta)\n",
    "end"
   ]
  },
  {
   "attachments": {},
   "cell_type": "markdown",
   "metadata": {},
   "source": [
    "## Flow-independent commonality factor."
   ]
  },
  {
   "cell_type": "code",
   "execution_count": 354,
   "metadata": {},
   "outputs": [
    {
     "data": {
      "text/plain": [
       "3-element Vector{Float64}:\n",
       " -10.986122886681098\n",
       "  -4.054651081081644\n",
       " -10.986122886681098"
      ]
     },
     "metadata": {},
     "output_type": "display_data"
    }
   ],
   "source": [
    "# Flow-independent commonality factor for C-Logit model. Use length to calculate the commonality factor.\n",
    "temp = [0.0, 0.0, 0.0]\n",
    "for i in 1:size(overlap)[1]\n",
    "    for j in 1:size(overlap)[2]\n",
    "        temp[i] += overlap[i, j] / (sqrt(path_length[i]) * sqrt(path_length[j]))\n",
    "    end\n",
    "end\n",
    "coeff = 10\n",
    "cf = coeff * log.(temp)"
   ]
  },
  {
   "cell_type": "code",
   "execution_count": 355,
   "metadata": {},
   "outputs": [
    {
     "data": {
      "text/plain": [
       "CLogit (generic function with 1 method)"
      ]
     },
     "metadata": {},
     "output_type": "display_data"
    }
   ],
   "source": [
    "# C-Logit probability\n",
    "function CLogit(cost, cf)\n",
    "    theta = 1.0\n",
    "    util = -(cost + cf)\n",
    "    return exp.(theta * util) / sum(exp.(theta * util))\n",
    "end"
   ]
  },
  {
   "attachments": {},
   "cell_type": "markdown",
   "metadata": {},
   "source": [
    "## Formulation\n",
    "It is a fixed point problem with respect to path flow. \n",
    "$$\n",
    "\\mathbf{f} = F(\\mathbf{f}) \\Rightarrow \\mathbf{f = q * Pr(-\\Delta^{T}t(\\Delta f))}\n",
    "$$\n",
    "\n",
    "Alternatively, we can also write it as a fixed point problem with respect to link flow.\n",
    "$$\n",
    "\\mathbf{x} = G(\\mathbf{x}) \\Rightarrow \\mathbf{x = \\Delta q * Pr(-\\Delta^{T}t(x))}\n",
    "$$\n",
    "\n",
    "We use MSA method to solve this fixed point problem with respect to path flow. "
   ]
  },
  {
   "cell_type": "code",
   "execution_count": 356,
   "metadata": {},
   "outputs": [
    {
     "name": "stdout",
     "output_type": "stream",
     "text": [
      "f_aux = [29.488980514315916, 3.4761026771776984, 67.03491680850638]\n",
      "f     = [29.488983103518574, 3.47609895880455, 67.03491793767664]\n",
      "x     = [32.96508206232313, 67.03491793767664, 29.488983103518574, 3.47609895880455, 29.488983103518574, 67.03491793767664, 70.5110168964812]\n"
     ]
    }
   ],
   "source": [
    "# Let's do it for many loops.\n",
    "f = [100; 0; 0]\n",
    "f_aux = []\n",
    "for iter in 1:10000\n",
    "    f_aux = dem * CLogit(Δ' * BPR.(cap, fft, alpha, beta, Δ * f), cf)\n",
    "    f = (f_aux  + iter * f) / (1 + iter)\n",
    "end\n",
    "println(\"f_aux = $f_aux\")\n",
    "println(\"f     = $f\")\n",
    "println(\"x     = $(Δ*f)\")"
   ]
  },
  {
   "cell_type": "code",
   "execution_count": 357,
   "metadata": {},
   "outputs": [
    {
     "name": "stdout",
     "output_type": "stream",
     "text": [
      "x_aux = [32.96507938503218, 67.0349206149678, 29.48898924258718, 3.476090142445001, 29.48898924258718, 67.0349206149678, 70.5110107574128]\n",
      "x     = [32.96508597226057, 67.03491402773939, 29.488974137969002, 3.4761118342915895, 29.488974137969002, 67.03491402773939, 70.51102586203058]\n"
     ]
    }
   ],
   "source": [
    "# Let's also do it link flow fixed point problem.\n",
    "# Initial value\n",
    "f = [0; 100; 0]\n",
    "x = Δ*f\n",
    "x_aux = []\n",
    "for iter in 1:10000\n",
    "    x_aux = Δ * dem * CLogit(Δ' * BPR.(cap, fft, alpha, beta, x), cf)\n",
    "    x = (x_aux  + iter * x) / (1 + iter)\n",
    "end\n",
    "println(\"x_aux = $x_aux\")\n",
    "println(\"x     = $x\")"
   ]
  },
  {
   "attachments": {},
   "cell_type": "markdown",
   "metadata": {},
   "source": [
    "## Flow-dependent commonality factor."
   ]
  },
  {
   "cell_type": "code",
   "execution_count": 358,
   "metadata": {},
   "outputs": [
    {
     "data": {
      "text/plain": [
       "commonality (generic function with 1 method)"
      ]
     },
     "metadata": {},
     "output_type": "display_data"
    }
   ],
   "source": [
    "# Flow-dependent commonality factor for C-Logit model. Use time to calclualte the commonality factor.\n",
    "function getOverlap(t)\n",
    "    overlap = zeros(Float64, 3, 3)\n",
    "    overlap[1, 2] = t[1]\n",
    "    overlap[1, 3] = 0.0\n",
    "    overlap[2, 1] = t[1]\n",
    "    overlap[2, 3] = t[7]\n",
    "    overlap[3, 1] = 0.0\n",
    "    overlap[3, 2] = t[7]\n",
    "    return overlap\n",
    "end\n",
    "\n",
    "function commonality(overlap)\n",
    "    temp = [0.0, 0.0, 0.0]\n",
    "    for i in 1:size(overlap)[1]\n",
    "        for j in 1:size(overlap)[2]\n",
    "            temp[i] += overlap[i, j] / (sqrt(path_length[i]) * sqrt(path_length[j]))\n",
    "        end\n",
    "    end\n",
    "    coeff = 10\n",
    "    cf = coeff * log.(temp)\n",
    "    return cf\n",
    "end"
   ]
  },
  {
   "cell_type": "code",
   "execution_count": 359,
   "metadata": {},
   "outputs": [
    {
     "data": {
      "text/plain": [
       "CLogit (generic function with 1 method)"
      ]
     },
     "metadata": {},
     "output_type": "display_data"
    }
   ],
   "source": [
    "# C-Logit probability\n",
    "function CLogit(pcost, cf)\n",
    "    theta = 1.0\n",
    "    util = -(pcost + cf)\n",
    "    return exp.(theta * util) / sum(exp.(theta * util))\n",
    "end"
   ]
  },
  {
   "cell_type": "code",
   "execution_count": 360,
   "metadata": {},
   "outputs": [
    {
     "name": "stdout",
     "output_type": "stream",
     "text": [
      "f_aux = [27.669837117482604, 4.002320694601948, 68.32784218791545]\n",
      "f     = [27.669837793017507, 4.002319596655362, 68.32784261032714]\n",
      "x     = [31.67215738967287, 68.32784261032714, 27.669837793017507, 4.002319596655362, 27.669837793017507, 68.32784261032714, 72.33016220698251]\n"
     ]
    }
   ],
   "source": [
    "# Let's do it for many loops.\n",
    "f = [100; 0; 0]\n",
    "f_aux = []\n",
    "for iter in 1:10000\n",
    "    f_aux = dem * CLogit(Δ' * BPR.(cap, fft, alpha, beta, Δ * f), commonality(getOverlap(BPR.(cap, fft, alpha, beta, Δ * f))))\n",
    "    f = (f_aux  + iter * f) / (1 + iter)\n",
    "end\n",
    "println(\"f_aux = $f_aux\")\n",
    "println(\"f     = $f\")\n",
    "println(\"x     = $(Δ*f)\")"
   ]
  },
  {
   "cell_type": "code",
   "execution_count": 361,
   "metadata": {},
   "outputs": [
    {
     "name": "stdout",
     "output_type": "stream",
     "text": [
      "x_aux = [31.672156670887915, 68.3278433291121, 27.669838942517284, 4.002317728370629, 27.669838942517284, 68.3278433291121, 72.33016105748273]\n",
      "x     = [31.672158333595814, 68.3278416664044, 27.669836283467397, 4.002322050128581, 27.669836283467397, 68.3278416664044, 72.33016371653238]\n"
     ]
    }
   ],
   "source": [
    "# Let's also do it link flow fixed point problem.\n",
    "# Initial value\n",
    "f = [0; 100; 0]\n",
    "x = Δ*f\n",
    "x_aux = []\n",
    "for iter in 1:10000\n",
    "    x_aux = Δ * dem * CLogit(Δ' * BPR.(cap, fft, alpha, beta, x), commonality(getOverlap(BPR.(cap, fft, alpha, beta, x))))\n",
    "    x = (x_aux  + iter * x) / (1 + iter)\n",
    "end\n",
    "println(\"x_aux = $x_aux\")\n",
    "println(\"x     = $x\")"
   ]
  }
 ],
 "metadata": {
  "kernelspec": {
   "display_name": "Julia 1.8.2",
   "language": "julia",
   "name": "julia-1.8"
  },
  "language_info": {
   "file_extension": ".jl",
   "mimetype": "application/julia",
   "name": "julia",
   "version": "1.8.2"
  },
  "orig_nbformat": 4
 },
 "nbformat": 4,
 "nbformat_minor": 2
}
