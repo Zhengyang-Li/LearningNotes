{
 "cells": [
  {
   "cell_type": "code",
   "execution_count": 1,
   "metadata": {},
   "outputs": [],
   "source": [
    "import numpy\n",
    "import math"
   ]
  },
  {
   "cell_type": "markdown",
   "metadata": {},
   "source": [
    "# Moment generating functions (MGFs)\n",
    "\n",
    "1 What's a \"moment\"?\n",
    "\n",
    "For a random variable $x$, $E(x)$ is 1st moment; $E(x^2)$ is 2nd moment; $E(x^3)$ is 3rd moment...\n",
    "\n",
    "*Central moment*: And $k$th central moment is $E[(x-E(x))^k]$.\n",
    "\n",
    "2 What's MGF?\n",
    "\n",
    "The MGF for a random variable $x$ is:\n",
    "\n",
    "$$\n",
    "M_x(t)=E(e^{tx})=\n",
    "\\begin{cases}\n",
    "\\sum_{\\forall k}{e^{tk}p_x(k)} &\\text{discrete}\\\\\n",
    "\\int_{-\\infty}^{+\\infty} e^{tk}f_x(k)dk &\\text{continuous}\n",
    "\\end{cases}\n",
    "$$\n",
    "\n",
    "We say that MGF of $X$ exists, if there exists a positive constant $a$ such that $M_x(s)$ is finite for all $s\\in[-a,a]$."
   ]
  },
  {
   "cell_type": "markdown",
   "metadata": {},
   "source": [
    "## Finding moments from MGF:\n",
    "\n",
    "The Taylor series for $e^x$:\\\n",
    "$$e^x=1+x+\\frac{x^2}{2!}+\\frac{x^3}{3!}+...=\\sum_{k=0}^\\infty \\frac{x^k}{k!}$$\n",
    "\n",
    "The Taylor series for $e^{tx}$:\\\n",
    "$$e^{tx}=1+tx+\\frac{t^2x^2}{2!}+\\frac{t^3x^3}{3!}+...=\\sum_{k=0}^\\infty \\frac{t^k x^k}{k!}$$\n",
    "\n",
    "Thus, we have:\\\n",
    "$$M_x(t)=E(e^{tx})=E(\\sum_{k=0}^\\infty \\frac{t^k x^k}{k!})=\\sum_{k=0}^\\infty E(x^k) \\frac{t^k}{k!}$$\n",
    "\n",
    "We conclude that the $k$th moment of $X$ is the coefficient of $\\frac{t^k}{k!}$ in the Taylor series of $M_x(t)$. Thus, if we have the Taylor series of $M_x(t)$, we can obtain all moments of $X$. But after getting $M_x(t)$, how to get the moment?\n",
    "\n",
    "$$E(x^k)=\\frac{d^k}{dt^k}M_x(t)|_{t=0}$$\n",
    "\n",
    "WHY? Let's see two examples:\n",
    "\n",
    "$$E(x^1)=\\frac{d^1}{dt^1}M_x(t)|_{t=0}=0+E(x)+tE(x^2)+\\frac{t^2}{2!}E(x^3)+\\frac{t^3}{3!}E(x^4)+...=E(x)$$\n",
    "\n",
    "$$E(x^2)=\\frac{d^2}{dt^2}M_x(t)|_{t=0}=0+0+E(x^2)+tE(x^3)+\\frac{t^2}{2!}E(x^4)+...=E(x^2)$$\n",
    "\n",
    "It is self-evident!\n",
    "\n",
    "Here is an example where $e^x,x=5$ is expanded into 30 terms."
   ]
  },
  {
   "cell_type": "code",
   "execution_count": 3,
   "metadata": {},
   "outputs": [
    {
     "name": "stdout",
     "output_type": "stream",
     "text": [
      "Analytical: 148.41315910257657\n",
      "Expand 30 terms.\n",
      "Expansion sum: 148.4131591025724\n"
     ]
    }
   ],
   "source": [
    "x = 5\n",
    "num_expan = 30\n",
    "print('Analytical:', math.e ** x)\n",
    "val = 1\n",
    "for i in range(1, num_expan):\n",
    "    val += x**i / math.factorial(i)\n",
    "print('Expand', num_expan, 'terms.')\n",
    "print('Expansion sum:', val)"
   ]
  },
  {
   "cell_type": "markdown",
   "metadata": {},
   "source": [
    "## Sum of independent random variables:\n",
    "\n",
    "Suppose $X_1$, $X_2$,..., $X_n$ are $n$ independent random variables, and the random variable $Y$ is defined as:\n",
    "\n",
    "$$Y=X_1+X_2+x_3+...+X_n$$\n",
    "\n",
    "Then,\n",
    "\n",
    "$$M_Y(s)=E(e^{sY})=E(e^{s(X_1+X_2+...+X_n)})=E(e^{sX_1}e^{sX_2}...e^{sX_n})=E(e^{sX_1})E(e^{sX_2})...E(e^{sX_n})=M_{X_1}(s)M_{X_2}(s)...M_{X_n}(s)$$"
   ]
  },
  {
   "cell_type": "markdown",
   "metadata": {},
   "source": [
    "## Moment genrating fucntion of normal distribution"
   ]
  },
  {
   "cell_type": "code",
   "execution_count": 6,
   "metadata": {},
   "outputs": [
    {
     "name": "stdout",
     "output_type": "stream",
     "text": [
      "20.085536923187664\n",
      "2980.957987041727\n",
      "3269017.372472108\n",
      "26489122129.843437\n"
     ]
    }
   ],
   "source": [
    "mean = 2\n",
    "var = 2\n",
    "t = 1\n",
    "def normal_MGF(mean, var, t):\n",
    "    return math.e ** (t * mean + 1/2 * var * t**2)\n",
    "\n",
    "moment1 = normal_MGF(mean, var, 1)\n",
    "print(moment1)\n",
    "moment2 = normal_MGF(mean, var, 2)\n",
    "print(moment2)\n",
    "moment3 = normal_MGF(mean, var, 3)\n",
    "print(moment3)\n",
    "moment4 = normal_MGF(mean, var, 4)\n",
    "print(moment4)"
   ]
  },
  {
   "cell_type": "code",
   "execution_count": null,
   "metadata": {},
   "outputs": [],
   "source": []
  }
 ],
 "metadata": {
  "kernelspec": {
   "display_name": "base",
   "language": "python",
   "name": "python3"
  },
  "language_info": {
   "codemirror_mode": {
    "name": "ipython",
    "version": 3
   },
   "file_extension": ".py",
   "mimetype": "text/x-python",
   "name": "python",
   "nbconvert_exporter": "python",
   "pygments_lexer": "ipython3",
   "version": "3.9.12 (main, Apr  4 2022, 05:22:27) [MSC v.1916 64 bit (AMD64)]"
  },
  "vscode": {
   "interpreter": {
    "hash": "9f43ae8a5f777e292332691e29788ed4eb2e3e237183b027c24f5f1fbd6ae6ce"
   }
  }
 },
 "nbformat": 4,
 "nbformat_minor": 4
}
