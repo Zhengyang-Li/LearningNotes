{
 "cells": [
  {
   "cell_type": "code",
   "execution_count": 1,
   "metadata": {},
   "outputs": [],
   "source": [
    "import numpy as np"
   ]
  },
  {
   "cell_type": "code",
   "execution_count": 2,
   "metadata": {},
   "outputs": [],
   "source": [
    "def projection_onto_simplex(z: np.ndarray, d: float = 1.0) -> np.ndarray:\n",
    "    \"\"\"\n",
    "    Projection onto the simplex.\n",
    "    Parameters:\n",
    "        z: np.ndarray\n",
    "            Input vector.\n",
    "        d: float\n",
    "            Value of the projection.\n",
    "    Returns:\n",
    "        p: np.ndarray\n",
    "            Projection of z onto the simplex.\n",
    "    References:\n",
    "        Michelot, C. (1986). A finite algorithm for finding the projection of a point onto the canonical simplex of ∝n. \n",
    "        Journal of Optimization Theory and Applications, 50, 195-200.\n",
    "    \"\"\"\n",
    "    p = z + 1/len(z) * (d - np.sum(z))\n",
    "    while p.min() < 0:\n",
    "        inc_ind = np.where(p < 0)\n",
    "        dec_ind = np.where(p > 0)\n",
    "        p[inc_ind] = 0\n",
    "        p[dec_ind] = p[dec_ind] + 1/np.size(dec_ind) * (d - np.sum(p[dec_ind]))\n",
    "    return p"
   ]
  },
  {
   "cell_type": "code",
   "execution_count": 6,
   "metadata": {},
   "outputs": [
    {
     "name": "stdout",
     "output_type": "stream",
     "text": [
      "4.999999999999994\n"
     ]
    }
   ],
   "source": [
    "z = np.random.rand(5000000)\n",
    "p = projection_onto_simplex(z, 5)\n",
    "print(sum(p))"
   ]
  }
 ],
 "metadata": {
  "kernelspec": {
   "display_name": "base",
   "language": "python",
   "name": "python3"
  },
  "language_info": {
   "codemirror_mode": {
    "name": "ipython",
    "version": 3
   },
   "file_extension": ".py",
   "mimetype": "text/x-python",
   "name": "python",
   "nbconvert_exporter": "python",
   "pygments_lexer": "ipython3",
   "version": "3.11.4"
  },
  "orig_nbformat": 4
 },
 "nbformat": 4,
 "nbformat_minor": 2
}
