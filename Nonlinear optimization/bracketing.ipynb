{
 "cells": [
  {
   "cell_type": "code",
   "execution_count": 125,
   "id": "51355a94",
   "metadata": {},
   "outputs": [],
   "source": [
    "using Base.MathConstants"
   ]
  },
  {
   "cell_type": "code",
   "execution_count": 126,
   "id": "10ed3a43",
   "metadata": {},
   "outputs": [
    {
     "data": {
      "text/plain": [
       "bracket_minimum (generic function with 2 methods)"
      ]
     },
     "metadata": {},
     "output_type": "display_data"
    }
   ],
   "source": [
    "function bracket_minimum(f, x=0; s=1e-2, k=2.0) \n",
    "    a, ya = x, f(x)\n",
    "    b, yb = a + s, f(a + s) \n",
    "    if yb > ya\n",
    "        a, b = b, a\n",
    "        ya, yb = yb, ya\n",
    "        s = -s\n",
    "    end\n",
    "    while true\n",
    "        c, yc = b + s, f(b + s) \n",
    "        println(\"a: $a, b: $b, s: $s, ya: $ya, yb: $yb\", \n",
    "                \", yc: $yc, c: $c\")\n",
    "        if yc > yb\n",
    "            return a < c ? (a, c) : (c, a) \n",
    "        end\n",
    "        a, ya, b, yb = b, yb, c, yc\n",
    "        s *= k \n",
    "    end\n",
    "end"
   ]
  },
  {
   "cell_type": "code",
   "execution_count": 127,
   "id": "44cc05cd",
   "metadata": {},
   "outputs": [
    {
     "name": "stdout",
     "output_type": "stream",
     "text": [
      "a: 0, b: 0.01, s: 0.01, ya: 2, yb: 1.9301, yc: 1.8603999999999998, c: 0.02\n",
      "a: 0.01, b: 0.02, s: 0.02, ya: 1.9301, yb: 1.8603999999999998, yc: 1.7216, c: 0.04\n",
      "a: 0.02, b: 0.04, s: 0.04, ya: 1.8603999999999998, yb: 1.7216, yc: 1.4464000000000001, c: 0.08\n",
      "a: 0.04, b: 0.08, s: 0.08, ya: 1.7216, yb: 1.4464000000000001, yc: 0.9055999999999998, c: 0.16\n",
      "a: 0.08, b: 0.16, s: 0.16, ya: 1.4464000000000001, yb: 0.9055999999999998, yc: -0.13760000000000017, c: 0.32\n",
      "a: 0.16, b: 0.32, s: 0.32, ya: 0.9055999999999998, yb: -0.13760000000000017, yc: -2.0704000000000002, c: 0.64\n",
      "a: 0.32, b: 0.64, s: 0.64, ya: -0.13760000000000017, yb: -2.0704000000000002, yc: -5.3216, c: 1.28\n",
      "a: 0.64, b: 1.28, s: 1.28, ya: -2.0704000000000002, yb: -5.3216, yc: -9.3664, c: 2.56\n",
      "a: 1.28, b: 2.56, s: 2.56, ya: -5.3216, yb: -9.3664, yc: -7.625600000000002, c: 5.12\n"
     ]
    },
    {
     "data": {
      "text/plain": [
       "(1.28, 5.12)"
      ]
     },
     "metadata": {},
     "output_type": "display_data"
    }
   ],
   "source": [
    "f(x) = (x - 1)^2 - 5x + 1\n",
    "\n",
    "bracket_minimum(f, 0)"
   ]
  },
  {
   "cell_type": "code",
   "execution_count": 128,
   "id": "8ffc3e6e",
   "metadata": {},
   "outputs": [
    {
     "data": {
      "text/plain": [
       "golden_section_search (generic function with 1 method)"
      ]
     },
     "metadata": {},
     "output_type": "display_data"
    }
   ],
   "source": [
    "# Golden ratio method\n",
    "function golden_section_search(f, a, b, n) \n",
    "    ρ = φ-1\n",
    "    d = ρ * b + (1 - ρ)*a \n",
    "    yd = f(d)\n",
    "    for i = 1 : n-1\n",
    "        c = ρ*a + (1 - ρ)*b \n",
    "        yc = f(c)\n",
    "        if yc < yd\n",
    "            b, d, yd = d, c, yc \n",
    "        else\n",
    "            a, b = b, c\n",
    "        end\n",
    "    end\n",
    "    return a < b ? (a, b) : (b, a) \n",
    "end"
   ]
  },
  {
   "cell_type": "code",
   "execution_count": 129,
   "id": "b86b88b3",
   "metadata": {},
   "outputs": [
    {
     "data": {
      "text/plain": [
       "(3.470476227218574, 3.520993798404845)"
      ]
     },
     "metadata": {},
     "output_type": "display_data"
    }
   ],
   "source": [
    "golden_section_search(f, 1.28, 5.12, 10)"
   ]
  },
  {
   "cell_type": "code",
   "execution_count": 134,
   "id": "be224427",
   "metadata": {},
   "outputs": [
    {
     "data": {
      "text/plain": [
       "bisection (generic function with 1 method)"
      ]
     },
     "metadata": {},
     "output_type": "display_data"
    }
   ],
   "source": [
    "function bisection(f′, a, b, ε)\n",
    "    if a > b; a,b = b,a; end # ensure a < b\n",
    "    ya, yb = f′(a), f′(b) \n",
    "    if ya == 0; b = a; end \n",
    "    if yb == 0; a = b; end\n",
    "    \n",
    "    while b - a > ε \n",
    "        x = (a+b)/2\n",
    "        y = f′(x) \n",
    "        if y == 0\n",
    "            a, b = x, x\n",
    "        elseif sign(y) == sign(ya)\n",
    "            a=x\n",
    "        else\n",
    "            b=x\n",
    "        end\n",
    "    end\n",
    "    return (a,b) \n",
    "end"
   ]
  },
  {
   "cell_type": "code",
   "execution_count": 137,
   "id": "2dedb268",
   "metadata": {},
   "outputs": [
    {
     "data": {
      "text/plain": [
       "(1.3572025299072266, 1.3572120666503906)"
      ]
     },
     "metadata": {},
     "output_type": "display_data"
    }
   ],
   "source": [
    "f′(x) = 2x^3 - 5\n",
    "bisection(f′, 0, 10, 1e-5)"
   ]
  },
  {
   "cell_type": "code",
   "execution_count": null,
   "id": "3a53ea0c",
   "metadata": {},
   "outputs": [
    {
     "data": {
      "text/plain": [
       "quadratic_fit_search (generic function with 1 method)"
      ]
     },
     "metadata": {},
     "output_type": "display_data"
    }
   ],
   "source": [
    "# Quadratic fit method\n",
    "function quadratic_fit_search(f, a, b, c, n) \n",
    "    ya, yb, yc = f(a), f(b), f(c)\n",
    "    for i in 1:n-3\n",
    "        x = 0.5*(ya*(b^2-c^2)+yb*(c^2-a^2)+yc*(a^2-b^2)) /\n",
    "                (ya*(b-c)    +yb*(c-a)    +yc*(a-b))\n",
    "        yx = f(x)\n",
    "        println(\"a: $a, b: $b, c: $c, x: $x, ya: $ya, yb: $yb, yc: $yc, yx: $yx\")\n",
    "        if x > b\n",
    "            if yx > yb\n",
    "                c, yc = x, yx \n",
    "            else\n",
    "                a, ya, b, yb = b, yb, x, yx \n",
    "            end\n",
    "        elseif x < b\n",
    "            if yx > yb\n",
    "                a, ya = x, yx\n",
    "            else\n",
    "                c, yc, b, yb = b, yb, x, yx \n",
    "            end\n",
    "        end\n",
    "    end\n",
    "    return (a, b, c) \n",
    "end"
   ]
  },
  {
   "cell_type": "code",
   "execution_count": 131,
   "id": "d1a0730c",
   "metadata": {},
   "outputs": [
    {
     "name": "stdout",
     "output_type": "stream",
     "text": [
      "a: 0, b: 1, c: 4, x: 3.5, ya: 2, yb: -4, yc: -10, yx: -10.25\n",
      "a: 1, b: 3.5, c: 4, x: 3.5, ya: -4, yb: -10.25, yc: -10, yx: -10.25\n",
      "a: 1, b: 3.5, c: 4, x: 3.5, ya: -4, yb: -10.25, yc: -10, yx: -10.25\n",
      "a: 1, b: 3.5, c: 4, x: 3.5, ya: -4, yb: -10.25, yc: -10, yx: -10.25\n",
      "a: 1, b: 3.5, c: 4, x: 3.5, ya: -4, yb: -10.25, yc: -10, yx: -10.25\n",
      "a: 1, b: 3.5, c: 4, x: 3.5, ya: -4, yb: -10.25, yc: -10, yx: -10.25\n",
      "a: 1, b: 3.5, c: 4, x: 3.5, ya: -4, yb: -10.25, yc: -10, yx: -10.25\n"
     ]
    },
    {
     "data": {
      "text/plain": [
       "(1, 3.5, 4)"
      ]
     },
     "metadata": {},
     "output_type": "display_data"
    }
   ],
   "source": [
    "quadratic_fit_search(f, 0, 1, 4, 10)"
   ]
  }
 ],
 "metadata": {
  "kernelspec": {
   "display_name": "Julia 1.10.7",
   "language": "julia",
   "name": "julia-1.10"
  },
  "language_info": {
   "file_extension": ".jl",
   "mimetype": "application/julia",
   "name": "julia",
   "version": "1.10.7"
  }
 },
 "nbformat": 4,
 "nbformat_minor": 5
}
